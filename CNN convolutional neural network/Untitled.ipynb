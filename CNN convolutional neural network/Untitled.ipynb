{
 "cells": [
  {
   "cell_type": "code",
   "execution_count": 3,
   "metadata": {},
   "outputs": [],
   "source": [
    "\n",
    "import tensorflow as tf\n",
    "from tensorflow.python import debug as tf_debug\n",
    "a = tf.constant([1.0, 4.0], shape=[2,1])\n",
    "b = tf.constant([2.0, 3.0], shape=[1,2])\n",
    "c = tf.add(tf.matmul(a,b), tf.constant([5.0, 6.0]))\n",
    "d = tf.Print(c, [c, 2.0], message=\"Value of C is:\")\n",
    "# sess = tf_debug.LocalCLIDebugWrapperSession(sess)\n",
    "with tf.Session() as sess:\n",
    "    sess.run(d)"
   ]
  },
  {
   "cell_type": "code",
   "execution_count": null,
   "metadata": {},
   "outputs": [],
   "source": []
  }
 ],
 "metadata": {
  "kernelspec": {
   "display_name": "Python 3",
   "language": "python",
   "name": "python3"
  },
  "language_info": {
   "codemirror_mode": {
    "name": "ipython",
    "version": 3
   },
   "file_extension": ".py",
   "mimetype": "text/x-python",
   "name": "python",
   "nbconvert_exporter": "python",
   "pygments_lexer": "ipython3",
   "version": "3.7.2"
  }
 },
 "nbformat": 4,
 "nbformat_minor": 2
}
