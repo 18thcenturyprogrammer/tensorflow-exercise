{
 "cells": [
  {
   "cell_type": "code",
   "execution_count": 84,
   "metadata": {},
   "outputs": [],
   "source": [
    "import numpy as np\n",
    "import tensorflow as tf\n",
    "import matplotlib.pyplot as  plt"
   ]
  },
  {
   "cell_type": "markdown",
   "metadata": {},
   "source": [
    "### setting random seeds"
   ]
  },
  {
   "cell_type": "code",
   "execution_count": 85,
   "metadata": {},
   "outputs": [],
   "source": [
    "np.random.seed(101)\n",
    "tf.set_random_seed(101)"
   ]
  },
  {
   "cell_type": "code",
   "execution_count": 109,
   "metadata": {},
   "outputs": [
    {
     "data": {
      "text/plain": [
       "array([ 0.        ,  0.20408163,  0.40816327,  0.6122449 ,  0.81632653,\n",
       "        1.02040816,  1.2244898 ,  1.42857143,  1.63265306,  1.83673469,\n",
       "        2.04081633,  2.24489796,  2.44897959,  2.65306122,  2.85714286,\n",
       "        3.06122449,  3.26530612,  3.46938776,  3.67346939,  3.87755102,\n",
       "        4.08163265,  4.28571429,  4.48979592,  4.69387755,  4.89795918,\n",
       "        5.10204082,  5.30612245,  5.51020408,  5.71428571,  5.91836735,\n",
       "        6.12244898,  6.32653061,  6.53061224,  6.73469388,  6.93877551,\n",
       "        7.14285714,  7.34693878,  7.55102041,  7.75510204,  7.95918367,\n",
       "        8.16326531,  8.36734694,  8.57142857,  8.7755102 ,  8.97959184,\n",
       "        9.18367347,  9.3877551 ,  9.59183673,  9.79591837, 10.        ])"
      ]
     },
     "execution_count": 109,
     "metadata": {},
     "output_type": "execute_result"
    }
   ],
   "source": [
    "x_data_base = np.linspace(0,10,50)\n",
    "x_data_base"
   ]
  },
  {
   "cell_type": "code",
   "execution_count": 110,
   "metadata": {},
   "outputs": [
    {
     "data": {
      "text/plain": [
       "array([-0.9142452 ,  1.46193825, -1.43008352,  0.14424134,  0.18272368,\n",
       "       -1.27573594,  1.17681303, -1.16813127,  0.37732035, -1.19745114,\n",
       "        0.63255837,  1.14398852,  0.58586989, -0.7014819 ,  1.2298914 ,\n",
       "        0.23885509, -0.42093932,  1.05790271, -0.76146236,  0.84133232,\n",
       "       -1.36347102,  1.15512357, -0.67073634,  0.2427732 ,  1.23198679,\n",
       "        1.47777314, -1.31332788,  1.28544431,  0.05148182,  1.33614626,\n",
       "        0.14079325, -0.70751511,  0.44164044, -0.11104381,  0.39302146,\n",
       "        0.0337089 , -0.83285734,  0.70348617,  0.8989841 ,  1.12986498,\n",
       "       -0.59212859,  0.327815  , -1.24499675, -0.54246652,  0.94649765,\n",
       "        1.11721926,  1.17212266,  0.56972971,  1.24788163, -0.27841418])"
      ]
     },
     "execution_count": 110,
     "metadata": {},
     "output_type": "execute_result"
    }
   ],
   "source": [
    "noise = np.random.uniform(-1.5,1.5,50)\n",
    "noise"
   ]
  },
  {
   "cell_type": "code",
   "execution_count": 112,
   "metadata": {},
   "outputs": [
    {
     "data": {
      "text/plain": [
       "array([-0.9142452 ,  1.66601988, -1.02192026,  0.75648624,  0.99905021,\n",
       "       -0.25532777,  2.40130282,  0.26044016,  2.00997341,  0.63928355,\n",
       "        2.67337469,  3.38888647,  3.03484948,  1.95157932,  4.08703426,\n",
       "        3.30007958,  2.84436681,  4.52729047,  2.91200703,  4.71888334,\n",
       "        2.71816164,  5.44083785,  3.81905958,  4.93665075,  6.12994597,\n",
       "        6.57981396,  3.99279457,  6.79564839,  5.76576753,  7.2545136 ,\n",
       "        6.26324223,  5.6190155 ,  6.97225269,  6.62365007,  7.33179697,\n",
       "        7.17656604,  6.51408143,  8.25450657,  8.65408614,  9.08904865,\n",
       "        7.57113671,  8.69516193,  7.32643182,  8.23304368,  9.92608949,\n",
       "       10.30089273, 10.55987776, 10.16156644, 11.0438    ,  9.72158582])"
      ]
     },
     "execution_count": 112,
     "metadata": {},
     "output_type": "execute_result"
    }
   ],
   "source": [
    "x_data = x_data_base + noise\n",
    "x_data"
   ]
  },
  {
   "cell_type": "code",
   "execution_count": 113,
   "metadata": {},
   "outputs": [
    {
     "data": {
      "text/plain": [
       "array([-1.01216914e+00, -7.43645056e-01, -4.20523104e-01, -8.84189118e-01,\n",
       "       -3.32840271e-03,  2.31334641e+00,  1.94004545e+00,  2.68100303e+00,\n",
       "        1.94314694e+00,  1.69999332e+00,  1.48125301e+00,  1.88784356e+00,\n",
       "        2.87741563e+00,  3.57265875e+00,  1.74872603e+00,  3.75291987e+00,\n",
       "        1.78162047e+00,  3.92137173e+00,  3.53261507e+00,  2.97948669e+00,\n",
       "        4.47501959e+00,  2.83908806e+00,  5.50544792e+00,  4.77051559e+00,\n",
       "        4.51077290e+00,  4.87928939e+00,  4.60140850e+00,  5.34942693e+00,\n",
       "        7.16224542e+00,  6.67452992e+00,  6.18522756e+00,  6.21367831e+00,\n",
       "        5.23298235e+00,  7.10321322e+00,  7.59763385e+00,  6.99506498e+00,\n",
       "        7.90127091e+00,  8.24873470e+00,  6.70451640e+00,  8.28617020e+00,\n",
       "        9.25122696e+00,  6.90220886e+00,  9.47117248e+00,  1.01359812e+01,\n",
       "        7.79513253e+00,  9.02661941e+00,  9.20107585e+00,  9.95392471e+00,\n",
       "        9.40343455e+00,  9.68597855e+00])"
      ]
     },
     "execution_count": 113,
     "metadata": {},
     "output_type": "execute_result"
    }
   ],
   "source": [
    "y = np.linspace(0,10,50) + np.random.uniform(-1.5,1.5,50)\n",
    "y"
   ]
  },
  {
   "cell_type": "code",
   "execution_count": 114,
   "metadata": {},
   "outputs": [
    {
     "data": {
      "text/plain": [
       "[<matplotlib.lines.Line2D at 0xb2c9fda90>]"
      ]
     },
     "execution_count": 114,
     "metadata": {},
     "output_type": "execute_result"
    },
    {
     "data": {
      "image/png": "[encoded data removed]",
      "text/plain": [
       "<Figure size 432x288 with 1 Axes>"
      ]
     },
     "metadata": {
      "needs_background": "light"
     },
     "output_type": "display_data"
    }
   ],
   "source": [
    "plt.plot(x_data, y, \"bo\")"
   ]
  },
  {
   "cell_type": "code",
   "execution_count": 115,
   "metadata": {},
   "outputs": [
    {
     "data": {
      "text/plain": [
       "array([0.30857136, 0.59208225])"
      ]
     },
     "execution_count": 115,
     "metadata": {},
     "output_type": "execute_result"
    }
   ],
   "source": [
    "np.random.rand(2)"
   ]
  },
  {
   "cell_type": "markdown",
   "metadata": {},
   "source": [
    "### set tensorflow Variables"
   ]
  },
  {
   "cell_type": "code",
   "execution_count": 116,
   "metadata": {},
   "outputs": [],
   "source": [
    "var_m = tf.Variable(0.39)\n",
    "var_b = tf.Variable(0.2)\n",
    "\n",
    "# m = tf.Variable(0.39)\n",
    "# b = tf.Variable(0.2)"
   ]
  },
  {
   "cell_type": "markdown",
   "metadata": {},
   "source": [
    "### cost function"
   ]
  },
  {
   "cell_type": "code",
   "execution_count": 117,
   "metadata": {},
   "outputs": [],
   "source": [
    "error = tf.reduce_mean(y - (var_m * x_data + var_b)) "
   ]
  },
  {
   "cell_type": "markdown",
   "metadata": {},
   "source": [
    "### optimizer ( gradient descents )"
   ]
  },
  {
   "cell_type": "code",
   "execution_count": 118,
   "metadata": {},
   "outputs": [],
   "source": [
    "optimizer = tf.train.GradientDescentOptimizer(learning_rate= 0.001)\n",
    "train = optimizer.minimize(error)"
   ]
  },
  {
   "cell_type": "markdown",
   "metadata": {},
   "source": [
    "### initialize global variables"
   ]
  },
  {
   "cell_type": "code",
   "execution_count": 119,
   "metadata": {},
   "outputs": [],
   "source": [
    "vars_init = tf.global_variables_initializer()"
   ]
  },
  {
   "cell_type": "markdown",
   "metadata": {},
   "source": [
    "</br>"
   ]
  },
  {
   "cell_type": "markdown",
   "metadata": {},
   "source": [
    "<hr><hr><hr>"
   ]
  },
  {
   "cell_type": "markdown",
   "metadata": {},
   "source": [
    "## save model"
   ]
  },
  {
   "cell_type": "code",
   "execution_count": 134,
   "metadata": {},
   "outputs": [],
   "source": [
    "saver = tf.train.Saver()"
   ]
  },
  {
   "cell_type": "code",
   "execution_count": 137,
   "metadata": {},
   "outputs": [
    {
     "name": "stdout",
     "output_type": "stream",
     "text": [
      "m is : 0.90890014/n b is : 0.29999945\n"
     ]
    }
   ],
   "source": [
    "# i have change epochs into 1000 , i was thinking if i choose bigger number for epoch numb, i would get better results,\n",
    "# but strangely the results was bad\n",
    "\n",
    "with tf.Session() as sess:\n",
    "    sess.run(vars_init)\n",
    "    epochs = 100\n",
    "    \n",
    "    for i in range(epochs):\n",
    "        sess.run(train)\n",
    "        \n",
    "    final_m , final_b = sess.run([var_m, var_b])\n",
    "    \n",
    "#     save model\n",
    "    saver.save(sess, \"saved_model/test_saved_model\")\n",
    "    \n",
    "    print(\"m is : \"+ str(final_m) + \"/n b is : \"+str(final_b))\n",
    "    "
   ]
  },
  {
   "cell_type": "code",
   "execution_count": 138,
   "metadata": {},
   "outputs": [
    {
     "data": {
      "text/plain": [
       "[<matplotlib.lines.Line2D at 0x1c3ec230f0>]"
      ]
     },
     "execution_count": 138,
     "metadata": {},
     "output_type": "execute_result"
    },
    {
     "data": {
      "image/png": "[encoded data removed]",
      "text/plain": [
       "<Figure size 432x288 with 1 Axes>"
      ]
     },
     "metadata": {
      "needs_background": "light"
     },
     "output_type": "display_data"
    }
   ],
   "source": [
    "plt.plot(x_data, y, \"bo\")\n",
    "plt.plot(x_data, x_data * final_m + final_b, \"r\")"
   ]
  },
  {
   "cell_type": "markdown",
   "metadata": {},
   "source": [
    "<hr><hr><hr>"
   ]
  },
  {
   "cell_type": "markdown",
   "metadata": {},
   "source": [
    "## loading model"
   ]
  },
  {
   "cell_type": "code",
   "execution_count": 140,
   "metadata": {},
   "outputs": [
    {
     "name": "stdout",
     "output_type": "stream",
     "text": [
      "INFO:tensorflow:Restoring parameters from saved_model/test_saved_model\n",
      "m is : 0.90890014/n b is : 0.29999945\n"
     ]
    }
   ],
   "source": [
    "# look at that we uses same variable names which are defined when we save model\n",
    "\n",
    "with tf.Session() as sess:\n",
    "    saver.restore(sess, \"saved_model/test_saved_model\")\n",
    "    restored_slope , restored_bias = sess.run([var_m, var_b])\n",
    "print(\"m is : \"+ str(restored_slope) + \"/n b is : \"+str(restored_bias))    \n",
    "    "
   ]
  },
  {
   "cell_type": "code",
   "execution_count": null,
   "metadata": {},
   "outputs": [],
   "source": []
  }
 ],
 "metadata": {
  "kernelspec": {
   "display_name": "Python 3",
   "language": "python",
   "name": "python3"
  },
  "language_info": {
   "codemirror_mode": {
    "name": "ipython",
    "version": 3
   },
   "file_extension": ".py",
   "mimetype": "text/x-python",
   "name": "python",
   "nbconvert_exporter": "python",
   "pygments_lexer": "ipython3",
   "version": "3.7.2"
  }
 },
 "nbformat": 4,
 "nbformat_minor": 2
}
