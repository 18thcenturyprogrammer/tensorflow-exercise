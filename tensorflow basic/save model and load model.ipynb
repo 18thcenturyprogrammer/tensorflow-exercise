{
 "cells": [
  {
   "cell_type": "code",
   "execution_count": 3,
   "metadata": {},
   "outputs": [],
   "source": [
    "import numpy as np\n",
    "import tensorflow as tf\n",
    "import matplotlib.pyplot as  plt"
   ]
  },
  {
   "cell_type": "code",
   "execution_count": 14,
   "metadata": {},
   "outputs": [],
   "source": [
    "np.random.seed(610)\n",
    "tf.set_random_seed(610)"
   ]
  },
  {
   "cell_type": "code",
   "execution_count": 15,
   "metadata": {},
   "outputs": [
    {
     "data": {
      "text/plain": [
       "array([ 0.        ,  0.20408163,  0.40816327,  0.6122449 ,  0.81632653,\n",
       "        1.02040816,  1.2244898 ,  1.42857143,  1.63265306,  1.83673469,\n",
       "        2.04081633,  2.24489796,  2.44897959,  2.65306122,  2.85714286,\n",
       "        3.06122449,  3.26530612,  3.46938776,  3.67346939,  3.87755102,\n",
       "        4.08163265,  4.28571429,  4.48979592,  4.69387755,  4.89795918,\n",
       "        5.10204082,  5.30612245,  5.51020408,  5.71428571,  5.91836735,\n",
       "        6.12244898,  6.32653061,  6.53061224,  6.73469388,  6.93877551,\n",
       "        7.14285714,  7.34693878,  7.55102041,  7.75510204,  7.95918367,\n",
       "        8.16326531,  8.36734694,  8.57142857,  8.7755102 ,  8.97959184,\n",
       "        9.18367347,  9.3877551 ,  9.59183673,  9.79591837, 10.        ])"
      ]
     },
     "execution_count": 15,
     "metadata": {},
     "output_type": "execute_result"
    }
   ],
   "source": [
    "x_data_base = np.linspace(0, 10, 50)\n",
    "x_data_base"
   ]
  },
  {
   "cell_type": "code",
   "execution_count": 16,
   "metadata": {},
   "outputs": [
    {
     "data": {
      "text/plain": [
       "array([ 3.84882234e-01,  7.62873911e-01,  2.09876281e+00, -5.82052938e-02,\n",
       "        4.75193471e-01, -2.18504123e-01,  1.34461553e+00, -1.01050143e+00,\n",
       "        1.25149458e+00,  1.28860943e+00,  3.48468199e-01, -5.46475124e-02,\n",
       "        8.08383600e-01,  1.70416483e+00,  1.33184503e+00,  1.41912923e+00,\n",
       "        1.08333828e+00,  1.47254596e+00,  1.42401817e+00,  6.17707847e-01,\n",
       "       -4.89171909e-01,  2.41286990e+00,  1.30348071e+00, -3.92397222e-01,\n",
       "        1.37469106e-01, -2.25280395e-01,  1.08650559e+00,  1.47172945e+00,\n",
       "        2.03407966e+00,  2.25184707e+00,  2.18446731e+00,  1.04771929e+00,\n",
       "        1.56884205e+00,  1.05838303e-01,  3.51302904e+00, -1.67173508e-01,\n",
       "        2.47446654e+00,  1.56064241e+00,  1.75762581e+00, -1.03657925e+00,\n",
       "       -5.89562011e-01,  1.34367338e+00,  3.44173003e+00,  8.13975887e-01,\n",
       "        1.94559378e+00,  1.15976112e+00, -1.98153391e-03, -1.00521409e-01,\n",
       "       -8.01187471e-01,  1.78056978e-01])"
      ]
     },
     "execution_count": 16,
     "metadata": {},
     "output_type": "execute_result"
    }
   ],
   "source": [
    "noise = np.random.normal(1,1,50)\n",
    "noise"
   ]
  },
  {
   "cell_type": "code",
   "execution_count": 17,
   "metadata": {},
   "outputs": [
    {
     "data": {
      "text/plain": [
       "array([ 0.38488223,  0.96695554,  2.50692608,  0.5540396 ,  1.29152   ,\n",
       "        0.80190404,  2.56910533,  0.41807   ,  2.88414764,  3.12534413,\n",
       "        2.38928453,  2.19025045,  3.25736319,  4.35722605,  4.18898788,\n",
       "        4.48035372,  4.3486444 ,  4.94193371,  5.09748756,  4.49525887,\n",
       "        3.59246074,  6.69858419,  5.79327663,  4.30148033,  5.03542829,\n",
       "        4.87676042,  6.39262804,  6.98193353,  7.74836537,  8.17021441,\n",
       "        8.30691629,  7.37424991,  8.0994543 ,  6.84053218, 10.45180455,\n",
       "        6.97568363,  9.82140532,  9.11166282,  9.51272785,  6.92260442,\n",
       "        7.5737033 ,  9.71102032, 12.0131586 ,  9.58948609, 10.92518562,\n",
       "       10.34343459,  9.38577357,  9.49131533,  8.9947309 , 10.17805698])"
      ]
     },
     "execution_count": 17,
     "metadata": {},
     "output_type": "execute_result"
    }
   ],
   "source": [
    "x_data = x_data_base + noise\n",
    "x_data"
   ]
  },
  {
   "cell_type": "code",
   "execution_count": 20,
   "metadata": {},
   "outputs": [
    {
     "data": {
      "text/plain": [
       "array([ 1.83758799,  2.11590942,  2.28789669,  4.92063789,  2.86409525,\n",
       "        5.8897228 ,  6.15868429,  6.41356826,  4.47299465,  7.272974  ,\n",
       "        6.2214493 ,  5.80168525,  9.5042021 ,  6.5975121 ,  7.00285165,\n",
       "        8.68631582,  7.07507221, 10.1029418 ,  7.43652475, 10.44430486,\n",
       "       10.59495215, 12.47195455, 11.8118444 , 10.15646637, 13.15578867,\n",
       "       14.09290693, 13.71959181, 11.40422361, 14.47663245, 16.01802516,\n",
       "       12.58562104, 12.7010408 , 14.79484658, 17.82184547, 14.66875492,\n",
       "       16.18180594, 16.88290041, 17.18682931, 17.25027682, 19.0100223 ,\n",
       "       19.48763095, 20.7275174 , 19.63419678, 21.10561577, 18.76904086,\n",
       "       20.70992365, 21.08356012, 22.07084493, 20.86192562, 24.11056244])"
      ]
     },
     "execution_count": 20,
     "metadata": {},
     "output_type": "execute_result"
    }
   ],
   "source": [
    "y = np.linspace(0, 20, 50) + np.random.uniform(0,5, 50)\n",
    "y"
   ]
  },
  {
   "cell_type": "code",
   "execution_count": 21,
   "metadata": {},
   "outputs": [
    {
     "data": {
      "text/plain": [
       "[<matplotlib.lines.Line2D at 0x1c3d46e160>]"
      ]
     },
     "execution_count": 21,
     "metadata": {},
     "output_type": "execute_result"
    },
    {
     "data": {
      "image/png": "[encoded data removed]",
      "text/plain": [
       "<Figure size 432x288 with 1 Axes>"
      ]
     },
     "metadata": {
      "needs_background": "light"
     },
     "output_type": "display_data"
    }
   ],
   "source": [
    "plt.plot(x_data, y, \"bo\")"
   ]
  },
  {
   "cell_type": "code",
   "execution_count": 23,
   "metadata": {},
   "outputs": [
    {
     "data": {
      "text/plain": [
       "array([0.09772881, 0.16627997])"
      ]
     },
     "execution_count": 23,
     "metadata": {},
     "output_type": "execute_result"
    }
   ],
   "source": [
    "np.random.rand(2)"
   ]
  },
  {
   "cell_type": "code",
   "execution_count": 24,
   "metadata": {},
   "outputs": [
    {
     "name": "stdout",
     "output_type": "stream",
     "text": [
      "WARNING:tensorflow:From /anaconda3/lib/python3.7/site-packages/tensorflow/python/framework/op_def_library.py:263: colocate_with (from tensorflow.python.framework.ops) is deprecated and will be removed in a future version.\n",
      "Instructions for updating:\n",
      "Colocations handled automatically by placer.\n"
     ]
    }
   ],
   "source": [
    "var_m = tf.Variable(0.09772881)\n",
    "var_b = tf.Variable(0.16627997)"
   ]
  },
  {
   "cell_type": "markdown",
   "metadata": {},
   "source": [
    "### COST FUNCTION"
   ]
  },
  {
   "cell_type": "code",
   "execution_count": 25,
   "metadata": {},
   "outputs": [],
   "source": [
    "error = tf.reduce_mean(y - (var_m * x_data + var_b)) "
   ]
  },
  {
   "cell_type": "markdown",
   "metadata": {},
   "source": [
    "### optimizer ( gradient descents )"
   ]
  },
  {
   "cell_type": "code",
   "execution_count": 27,
   "metadata": {},
   "outputs": [],
   "source": [
    "optimizer = tf.train.GradientDescentOptimizer(learning_rate= 0.01)\n",
    "train = optimizer.minimize(error)"
   ]
  },
  {
   "cell_type": "markdown",
   "metadata": {},
   "source": [
    "### initialize global variables"
   ]
  },
  {
   "cell_type": "code",
   "execution_count": 28,
   "metadata": {},
   "outputs": [],
   "source": [
    "vars_init = tf.global_variables_initializer()"
   ]
  },
  {
   "cell_type": "code",
   "execution_count": null,
   "metadata": {},
   "outputs": [],
   "source": []
  }
 ],
 "metadata": {
  "kernelspec": {
   "display_name": "Python 3",
   "language": "python",
   "name": "python3"
  },
  "language_info": {
   "codemirror_mode": {
    "name": "ipython",
    "version": 3
   },
   "file_extension": ".py",
   "mimetype": "text/x-python",
   "name": "python",
   "nbconvert_exporter": "python",
   "pygments_lexer": "ipython3",
   "version": "3.7.2"
  }
 },
 "nbformat": 4,
 "nbformat_minor": 2
}
