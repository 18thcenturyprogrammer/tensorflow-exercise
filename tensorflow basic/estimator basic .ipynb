{
 "cells": [
  {
   "cell_type": "code",
   "execution_count": 1,
   "metadata": {},
   "outputs": [],
   "source": [
    "import tensorflow as tf\n",
    "import numpy as np\n",
    "import matplotlib.pyplot as plt\n",
    "import pandas as pd"
   ]
  },
  {
   "cell_type": "code",
   "execution_count": 2,
   "metadata": {},
   "outputs": [],
   "source": [
    "x_data = np.linspace(0,10,1000000)\n",
    "noise = np.random.randn(len(x_data))\n",
    "# y = mx + b + noise_levels\n",
    "b = 5\n",
    "\n",
    "y_real =  (0.5 * x_data ) + 5 + noise"
   ]
  },
  {
   "cell_type": "code",
   "execution_count": 3,
   "metadata": {},
   "outputs": [
    {
     "data": {
      "text/plain": [
       "array([0.000000e+00, 1.000001e-05, 2.000002e-05, ..., 9.999980e+00,\n",
       "       9.999990e+00, 1.000000e+01])"
      ]
     },
     "execution_count": 3,
     "metadata": {},
     "output_type": "execute_result"
    }
   ],
   "source": [
    "x_data"
   ]
  },
  {
   "cell_type": "code",
   "execution_count": 4,
   "metadata": {},
   "outputs": [
    {
     "data": {
      "text/plain": [
       "array([ 5.33310419,  5.7422955 ,  4.04552322, ..., 10.21228132,\n",
       "        8.81018439,  9.68055752])"
      ]
     },
     "execution_count": 4,
     "metadata": {},
     "output_type": "execute_result"
    }
   ],
   "source": [
    "y_real"
   ]
  },
  {
   "cell_type": "code",
   "execution_count": 5,
   "metadata": {},
   "outputs": [],
   "source": [
    "ft_columns = [tf.feature_column.numeric_column(\"x\",shape=[1])]"
   ]
  },
  {
   "cell_type": "code",
   "execution_count": 6,
   "metadata": {},
   "outputs": [
    {
     "name": "stdout",
     "output_type": "stream",
     "text": [
      "INFO:tensorflow:Using default config.\n",
      "WARNING:tensorflow:Using temporary folder as model directory: /var/folders/9c/883h376s53500dcqng4b4nj00000gn/T/tmppbgz65sf\n",
      "INFO:tensorflow:Using config: {'_model_dir': '/var/folders/9c/883h376s53500dcqng4b4nj00000gn/T/tmppbgz65sf', '_tf_random_seed': None, '_save_summary_steps': 100, '_save_checkpoints_steps': None, '_save_checkpoints_secs': 600, '_session_config': allow_soft_placement: true\n",
      "graph_options {\n",
      "  rewrite_options {\n",
      "    meta_optimizer_iterations: ONE\n",
      "  }\n",
      "}\n",
      ", '_keep_checkpoint_max': 5, '_keep_checkpoint_every_n_hours': 10000, '_log_step_count_steps': 100, '_train_distribute': None, '_device_fn': None, '_protocol': None, '_eval_distribute': None, '_experimental_distribute': None, '_service': None, '_cluster_spec': <tensorflow.python.training.server_lib.ClusterSpec object at 0xb20fa1d68>, '_task_type': 'worker', '_task_id': 0, '_global_id_in_cluster': 0, '_master': '', '_evaluation_master': '', '_is_chief': True, '_num_ps_replicas': 0, '_num_worker_replicas': 1}\n"
     ]
    }
   ],
   "source": [
    "estimator = tf.estimator.LinearRegressor(feature_columns=ft_columns)"
   ]
  },
  {
   "cell_type": "code",
   "execution_count": 7,
   "metadata": {},
   "outputs": [],
   "source": [
    "from sklearn.model_selection import train_test_split\n",
    "x_train , x_test, y_train, y_test = train_test_split(x_data,y_real,test_size=0.3,random_state=101)"
   ]
  },
  {
   "cell_type": "code",
   "execution_count": 9,
   "metadata": {},
   "outputs": [
    {
     "name": "stdout",
     "output_type": "stream",
     "text": [
      "[6.83743684 5.66519567 3.97899398 ... 4.76497476 2.14539215 1.76991177]\n"
     ]
    }
   ],
   "source": [
    "print(x_train)"
   ]
  },
  {
   "cell_type": "code",
   "execution_count": 10,
   "metadata": {},
   "outputs": [],
   "source": [
    "########################################################################################\n",
    "# ref) https://www.tensorflow.org/api_docs/python/tf/estimator/inputs/numpy_input_fn\n",
    "# \n",
    "# age = np.arange(4) * 1.0\n",
    "# height = np.arange(32, 36)\n",
    "# x = {'age': age, 'height': height}\n",
    "# y = np.arange(-32, -28)\n",
    "\n",
    "# with tf.Session() as session:\n",
    "#   input_fn = numpy_io.numpy_input_fn(\n",
    "#       x, y, batch_size=2, shuffle=False, num_epochs=1)"
   ]
  },
  {
   "cell_type": "code",
   "execution_count": 12,
   "metadata": {},
   "outputs": [],
   "source": [
    "input_func = tf.estimator.inputs.numpy_input_fn({\"x\":x_train}, y_train, batch_size=8, num_epochs=None, shuffle=True)"
   ]
  },
  {
   "cell_type": "code",
   "execution_count": 13,
   "metadata": {},
   "outputs": [],
   "source": [
    "train_func = tf.estimator.inputs.numpy_input_fn({\"x\":x_train}, y_train, batch_size=8, num_epochs=1000, shuffle=False)"
   ]
  },
  {
   "cell_type": "code",
   "execution_count": 14,
   "metadata": {},
   "outputs": [],
   "source": [
    "test_func = tf.estimator.inputs.numpy_input_fn({\"x\":x_test}, y_test, batch_size=8, num_epochs=1000, shuffle=True)"
   ]
  },
  {
   "cell_type": "code",
   "execution_count": 17,
   "metadata": {},
   "outputs": [
    {
     "name": "stdout",
     "output_type": "stream",
     "text": [
      "INFO:tensorflow:Calling model_fn.\n",
      "INFO:tensorflow:Done calling model_fn.\n",
      "INFO:tensorflow:Create CheckpointSaverHook.\n",
      "INFO:tensorflow:Graph was finalized.\n",
      "WARNING:tensorflow:From /anaconda3/lib/python3.7/site-packages/tensorflow/python/training/saver.py:1266: checkpoint_exists (from tensorflow.python.training.checkpoint_management) is deprecated and will be removed in a future version.\n",
      "Instructions for updating:\n",
      "Use standard file APIs to check for files with this prefix.\n",
      "INFO:tensorflow:Restoring parameters from /var/folders/9c/883h376s53500dcqng4b4nj00000gn/T/tmppbgz65sf/model.ckpt-1000\n",
      "WARNING:tensorflow:From /anaconda3/lib/python3.7/site-packages/tensorflow/python/training/saver.py:1070: get_checkpoint_mtimes (from tensorflow.python.training.checkpoint_management) is deprecated and will be removed in a future version.\n",
      "Instructions for updating:\n",
      "Use standard file utilities to get mtimes.\n",
      "INFO:tensorflow:Running local_init_op.\n",
      "INFO:tensorflow:Done running local_init_op.\n",
      "INFO:tensorflow:Saving checkpoints for 1000 into /var/folders/9c/883h376s53500dcqng4b4nj00000gn/T/tmppbgz65sf/model.ckpt.\n",
      "INFO:tensorflow:loss = 5.0608315, step = 1001\n",
      "INFO:tensorflow:global_step/sec: 602.449\n",
      "INFO:tensorflow:loss = 3.6601179, step = 1101 (0.167 sec)\n",
      "INFO:tensorflow:global_step/sec: 703.611\n",
      "INFO:tensorflow:loss = 12.000345, step = 1201 (0.142 sec)\n",
      "INFO:tensorflow:global_step/sec: 751.237\n",
      "INFO:tensorflow:loss = 5.780149, step = 1301 (0.134 sec)\n",
      "INFO:tensorflow:global_step/sec: 779.38\n",
      "INFO:tensorflow:loss = 5.778123, step = 1401 (0.128 sec)\n",
      "INFO:tensorflow:global_step/sec: 807.988\n",
      "INFO:tensorflow:loss = 10.194172, step = 1501 (0.124 sec)\n",
      "INFO:tensorflow:global_step/sec: 832.225\n",
      "INFO:tensorflow:loss = 7.0140204, step = 1601 (0.120 sec)\n",
      "INFO:tensorflow:global_step/sec: 737.088\n",
      "INFO:tensorflow:loss = 7.0413814, step = 1701 (0.136 sec)\n",
      "INFO:tensorflow:global_step/sec: 786.882\n",
      "INFO:tensorflow:loss = 4.63664, step = 1801 (0.127 sec)\n",
      "INFO:tensorflow:global_step/sec: 744.751\n",
      "INFO:tensorflow:loss = 5.7259064, step = 1901 (0.134 sec)\n",
      "INFO:tensorflow:Saving checkpoints for 2000 into /var/folders/9c/883h376s53500dcqng4b4nj00000gn/T/tmppbgz65sf/model.ckpt.\n",
      "INFO:tensorflow:Loss for final step: 2.0469928.\n"
     ]
    },
    {
     "data": {
      "text/plain": [
       "<tensorflow_estimator.python.estimator.canned.linear.LinearRegressor at 0xb20fc4ac8>"
      ]
     },
     "execution_count": 17,
     "metadata": {},
     "output_type": "execute_result"
    }
   ],
   "source": [
    "estimator.train(input_fn=train_func, steps= 1000)"
   ]
  },
  {
   "cell_type": "code",
   "execution_count": 18,
   "metadata": {},
   "outputs": [
    {
     "name": "stdout",
     "output_type": "stream",
     "text": [
      "INFO:tensorflow:Calling model_fn.\n",
      "INFO:tensorflow:Done calling model_fn.\n",
      "INFO:tensorflow:Starting evaluation at 2019-04-05T20:10:05Z\n",
      "INFO:tensorflow:Graph was finalized.\n",
      "INFO:tensorflow:Restoring parameters from /var/folders/9c/883h376s53500dcqng4b4nj00000gn/T/tmppbgz65sf/model.ckpt-2000\n",
      "INFO:tensorflow:Running local_init_op.\n",
      "INFO:tensorflow:Done running local_init_op.\n",
      "INFO:tensorflow:Evaluation [100/1000]\n",
      "INFO:tensorflow:Evaluation [200/1000]\n",
      "INFO:tensorflow:Evaluation [300/1000]\n",
      "INFO:tensorflow:Evaluation [400/1000]\n",
      "INFO:tensorflow:Evaluation [500/1000]\n",
      "INFO:tensorflow:Evaluation [600/1000]\n",
      "INFO:tensorflow:Evaluation [700/1000]\n",
      "INFO:tensorflow:Evaluation [800/1000]\n",
      "INFO:tensorflow:Evaluation [900/1000]\n",
      "INFO:tensorflow:Evaluation [1000/1000]\n",
      "INFO:tensorflow:Finished evaluation at 2019-04-05-20:10:07\n",
      "INFO:tensorflow:Saving dict for global step 2000: average_loss = 1.0197684, global_step = 2000, label/mean = 7.4857903, loss = 8.158147, prediction/mean = 7.4502683\n",
      "INFO:tensorflow:Saving 'checkpoint_path' summary for global step 2000: /var/folders/9c/883h376s53500dcqng4b4nj00000gn/T/tmppbgz65sf/model.ckpt-2000\n"
     ]
    },
    {
     "data": {
      "text/plain": [
       "{'average_loss': 1.0197684,\n",
       " 'label/mean': 7.4857903,\n",
       " 'loss': 8.158147,\n",
       " 'prediction/mean': 7.4502683,\n",
       " 'global_step': 2000}"
      ]
     },
     "execution_count": 18,
     "metadata": {},
     "output_type": "execute_result"
    }
   ],
   "source": [
    "test_eval = estimator.evaluate(input_fn=test_func, steps=1000)\n",
    "test_eval"
   ]
  },
  {
   "cell_type": "code",
   "execution_count": 19,
   "metadata": {},
   "outputs": [],
   "source": [
    "new_data = np.linspace(0,10,100)"
   ]
  },
  {
   "cell_type": "code",
   "execution_count": 20,
   "metadata": {},
   "outputs": [],
   "source": [
    "# tf.estimator 와 estimator를 햇갈리지 말자\n",
    "new_data_input_func = tf.estimator.inputs.numpy_input_fn({\"x\":new_data},shuffle=False) "
   ]
  },
  {
   "cell_type": "code",
   "execution_count": 21,
   "metadata": {},
   "outputs": [
    {
     "data": {
      "text/plain": [
       "<generator object EstimatorV2.predict at 0x1a25649390>"
      ]
     },
     "execution_count": 21,
     "metadata": {},
     "output_type": "execute_result"
    }
   ],
   "source": [
    "estimator.predict(new_data_input_func)"
   ]
  },
  {
   "cell_type": "code",
   "execution_count": 22,
   "metadata": {},
   "outputs": [
    {
     "name": "stdout",
     "output_type": "stream",
     "text": [
      "INFO:tensorflow:Calling model_fn.\n",
      "INFO:tensorflow:Done calling model_fn.\n",
      "INFO:tensorflow:Graph was finalized.\n",
      "INFO:tensorflow:Restoring parameters from /var/folders/9c/883h376s53500dcqng4b4nj00000gn/T/tmppbgz65sf/model.ckpt-2000\n",
      "INFO:tensorflow:Running local_init_op.\n",
      "INFO:tensorflow:Done running local_init_op.\n"
     ]
    },
    {
     "data": {
      "text/plain": [
       "[{'predictions': array([4.8591776], dtype=float32)},\n",
       " {'predictions': array([4.9116206], dtype=float32)},\n",
       " {'predictions': array([4.964064], dtype=float32)},\n",
       " {'predictions': array([5.016507], dtype=float32)},\n",
       " {'predictions': array([5.06895], dtype=float32)},\n",
       " {'predictions': array([5.1213937], dtype=float32)},\n",
       " {'predictions': array([5.1738367], dtype=float32)},\n",
       " {'predictions': array([5.2262797], dtype=float32)},\n",
       " {'predictions': array([5.2787232], dtype=float32)},\n",
       " {'predictions': array([5.3311663], dtype=float32)},\n",
       " {'predictions': array([5.38361], dtype=float32)},\n",
       " {'predictions': array([5.436053], dtype=float32)},\n",
       " {'predictions': array([5.488496], dtype=float32)},\n",
       " {'predictions': array([5.5409393], dtype=float32)},\n",
       " {'predictions': array([5.5933824], dtype=float32)},\n",
       " {'predictions': array([5.6458254], dtype=float32)},\n",
       " {'predictions': array([5.698269], dtype=float32)},\n",
       " {'predictions': array([5.750712], dtype=float32)},\n",
       " {'predictions': array([5.803155], dtype=float32)},\n",
       " {'predictions': array([5.8555984], dtype=float32)},\n",
       " {'predictions': array([5.9080415], dtype=float32)},\n",
       " {'predictions': array([5.9604845], dtype=float32)},\n",
       " {'predictions': array([6.012928], dtype=float32)},\n",
       " {'predictions': array([6.065371], dtype=float32)},\n",
       " {'predictions': array([6.117814], dtype=float32)},\n",
       " {'predictions': array([6.1702576], dtype=float32)},\n",
       " {'predictions': array([6.2227006], dtype=float32)},\n",
       " {'predictions': array([6.2751436], dtype=float32)},\n",
       " {'predictions': array([6.327587], dtype=float32)},\n",
       " {'predictions': array([6.38003], dtype=float32)},\n",
       " {'predictions': array([6.432473], dtype=float32)},\n",
       " {'predictions': array([6.4849167], dtype=float32)},\n",
       " {'predictions': array([6.5373597], dtype=float32)},\n",
       " {'predictions': array([6.5898027], dtype=float32)},\n",
       " {'predictions': array([6.6422462], dtype=float32)},\n",
       " {'predictions': array([6.6946893], dtype=float32)},\n",
       " {'predictions': array([6.747133], dtype=float32)},\n",
       " {'predictions': array([6.799576], dtype=float32)},\n",
       " {'predictions': array([6.8520193], dtype=float32)},\n",
       " {'predictions': array([6.9044623], dtype=float32)},\n",
       " {'predictions': array([6.9569054], dtype=float32)},\n",
       " {'predictions': array([7.009349], dtype=float32)},\n",
       " {'predictions': array([7.0617914], dtype=float32)},\n",
       " {'predictions': array([7.114235], dtype=float32)},\n",
       " {'predictions': array([7.1666784], dtype=float32)},\n",
       " {'predictions': array([7.219121], dtype=float32)},\n",
       " {'predictions': array([7.2715645], dtype=float32)},\n",
       " {'predictions': array([7.324008], dtype=float32)},\n",
       " {'predictions': array([7.376451], dtype=float32)},\n",
       " {'predictions': array([7.428894], dtype=float32)},\n",
       " {'predictions': array([7.4813375], dtype=float32)},\n",
       " {'predictions': array([7.53378], dtype=float32)},\n",
       " {'predictions': array([7.5862236], dtype=float32)},\n",
       " {'predictions': array([7.638667], dtype=float32)},\n",
       " {'predictions': array([7.69111], dtype=float32)},\n",
       " {'predictions': array([7.743553], dtype=float32)},\n",
       " {'predictions': array([7.7959967], dtype=float32)},\n",
       " {'predictions': array([7.84844], dtype=float32)},\n",
       " {'predictions': array([7.9008827], dtype=float32)},\n",
       " {'predictions': array([7.953326], dtype=float32)},\n",
       " {'predictions': array([8.00577], dtype=float32)},\n",
       " {'predictions': array([8.058212], dtype=float32)},\n",
       " {'predictions': array([8.110656], dtype=float32)},\n",
       " {'predictions': array([8.163099], dtype=float32)},\n",
       " {'predictions': array([8.215542], dtype=float32)},\n",
       " {'predictions': array([8.267985], dtype=float32)},\n",
       " {'predictions': array([8.320429], dtype=float32)},\n",
       " {'predictions': array([8.372871], dtype=float32)},\n",
       " {'predictions': array([8.425315], dtype=float32)},\n",
       " {'predictions': array([8.477758], dtype=float32)},\n",
       " {'predictions': array([8.530201], dtype=float32)},\n",
       " {'predictions': array([8.582644], dtype=float32)},\n",
       " {'predictions': array([8.635088], dtype=float32)},\n",
       " {'predictions': array([8.6875305], dtype=float32)},\n",
       " {'predictions': array([8.739974], dtype=float32)},\n",
       " {'predictions': array([8.792418], dtype=float32)},\n",
       " {'predictions': array([8.84486], dtype=float32)},\n",
       " {'predictions': array([8.897304], dtype=float32)},\n",
       " {'predictions': array([8.949747], dtype=float32)},\n",
       " {'predictions': array([9.00219], dtype=float32)},\n",
       " {'predictions': array([9.054633], dtype=float32)},\n",
       " {'predictions': array([9.107077], dtype=float32)},\n",
       " {'predictions': array([9.159519], dtype=float32)},\n",
       " {'predictions': array([9.211963], dtype=float32)},\n",
       " {'predictions': array([9.264406], dtype=float32)},\n",
       " {'predictions': array([9.316849], dtype=float32)},\n",
       " {'predictions': array([9.369292], dtype=float32)},\n",
       " {'predictions': array([9.421736], dtype=float32)},\n",
       " {'predictions': array([9.474178], dtype=float32)},\n",
       " {'predictions': array([9.526622], dtype=float32)},\n",
       " {'predictions': array([9.579065], dtype=float32)},\n",
       " {'predictions': array([9.631508], dtype=float32)},\n",
       " {'predictions': array([9.683952], dtype=float32)},\n",
       " {'predictions': array([9.736395], dtype=float32)},\n",
       " {'predictions': array([9.788837], dtype=float32)},\n",
       " {'predictions': array([9.841281], dtype=float32)},\n",
       " {'predictions': array([9.893724], dtype=float32)},\n",
       " {'predictions': array([9.946167], dtype=float32)},\n",
       " {'predictions': array([9.9986105], dtype=float32)},\n",
       " {'predictions': array([10.051054], dtype=float32)}]"
      ]
     },
     "execution_count": 22,
     "metadata": {},
     "output_type": "execute_result"
    }
   ],
   "source": [
    "list(estimator.predict(new_data_input_func))"
   ]
  }
 ],
 "metadata": {
  "kernelspec": {
   "display_name": "Python 3",
   "language": "python",
   "name": "python3"
  },
  "language_info": {
   "codemirror_mode": {
    "name": "ipython",
    "version": 3
   },
   "file_extension": ".py",
   "mimetype": "text/x-python",
   "name": "python",
   "nbconvert_exporter": "python",
   "pygments_lexer": "ipython3",
   "version": "3.7.2"
  }
 },
 "nbformat": 4,
 "nbformat_minor": 2
}
