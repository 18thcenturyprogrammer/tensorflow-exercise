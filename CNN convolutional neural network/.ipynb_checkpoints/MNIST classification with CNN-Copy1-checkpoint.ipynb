{
 "cells": [
  {
   "cell_type": "code",
   "execution_count": 1,
   "metadata": {},
   "outputs": [],
   "source": [
    "# #  this is for showing image on jupyter notebook\n",
    "# from IPython.display import Image"
   ]
  },
  {
   "cell_type": "markdown",
   "metadata": {},
   "source": [
    "### 참고자료\n",
    "ref) https://www.youtube.com/watch?v=HMcx-zY8JSg"
   ]
  },
  {
   "cell_type": "code",
   "execution_count": 2,
   "metadata": {},
   "outputs": [],
   "source": [
    "# Image(filename=\"ref img/cnn mnist big pic.png\", height = 300, width=900 )"
   ]
  },
  {
   "cell_type": "markdown",
   "metadata": {},
   "source": [
    "#### above image show basic process. the channel numbers are different from my example, but i can get the basic concept.\n",
    "<hr><hr><hr>"
   ]
  },
  {
   "cell_type": "code",
   "execution_count": 3,
   "metadata": {},
   "outputs": [],
   "source": [
    "# import sys"
   ]
  },
  {
   "cell_type": "code",
   "execution_count": 4,
   "metadata": {},
   "outputs": [],
   "source": [
    "import tensorflow as tf"
   ]
  },
  {
   "cell_type": "code",
   "execution_count": 6,
   "metadata": {},
   "outputs": [
    {
     "name": "stdout",
     "output_type": "stream",
     "text": [
      "Extracting MNIST_data/train-images-idx3-ubyte.gz\n",
      "Extracting MNIST_data/train-labels-idx1-ubyte.gz\n",
      "Extracting MNIST_data/t10k-images-idx3-ubyte.gz\n",
      "Extracting MNIST_data/t10k-labels-idx1-ubyte.gz\n"
     ]
    }
   ],
   "source": [
    "# use examples data which is provided by tensorflow\n",
    "from tensorflow.examples.tutorials.mnist import input_data\n",
    "mnist = input_data.read_data_sets(\"MNIST_data/\",one_hot = True ) "
   ]
  },
  {
   "cell_type": "code",
   "execution_count": 7,
   "metadata": {},
   "outputs": [],
   "source": [
    "# helper func which return init weights\n",
    "def init_weights(shape):\n",
    "    init_random_dist = tf.random.truncated_normal(shape, stddev= 0.01)\n",
    "    return tf.Variable(init_random_dist)"
   ]
  },
  {
   "cell_type": "code",
   "execution_count": 8,
   "metadata": {},
   "outputs": [],
   "source": [
    "# helper fucn which return init bias\n",
    "def init_bias(shape):\n",
    "    init_bias = tf.constant(0.1,shape=shape)\n",
    "    return tf.Variable(init_bias)"
   ]
  },
  {
   "cell_type": "markdown",
   "metadata": {},
   "source": [
    "## conv2d\n",
    "#### ref) https://www.tensorflow.org/api_docs/python/tf/nn/conv2d\n",
    "#### this is data tensor    x = [batch, in_height, in_width, in_channels] \n",
    "#### this is filter      W = [filter_height, filter_width, in_channels, out_channels]\n",
    "\n",
    "#### intuition of conv2d \n",
    "#### ref) https://stackoverflow.com/a/34698115/3151712"
   ]
  },
  {
   "cell_type": "code",
   "execution_count": 9,
   "metadata": {},
   "outputs": [],
   "source": [
    "def conv2d(x,W):\n",
    "#     x ----> [batch_size, height, width, num_channels]\n",
    "#     W ----> [filter_height, filter_width, channels_in, channels_out ]\n",
    "    \n",
    "#     stride decides how far filter moves whenever filter moves \n",
    "#     padding = \"SAME\" will set padding zero\n",
    "    return tf.nn.conv2d(x,W,strides=[1,1,1,1],padding=\"SAME\")"
   ]
  },
  {
   "cell_type": "code",
   "execution_count": 10,
   "metadata": {},
   "outputs": [],
   "source": [
    "# helper func which return max pooling\n",
    "def max_pooling_2by2(x):\n",
    "#     x ----> [batch_size, height, width, channel]\n",
    " \n",
    "#     max_pool size is 2 by 2\n",
    "#     max_pool will be applied on one image and one channel , so ksize and stride will [1, * , *, 1] form \n",
    "    return tf.nn.max_pool(x,ksize=[1,2,2,1],strides=[1,2,2,1],padding=\"SAME\")"
   ]
  },
  {
   "cell_type": "code",
   "execution_count": 11,
   "metadata": {},
   "outputs": [],
   "source": [
    "# helper func which returns convolution layer\n",
    "def convolution_layer(input_x, shape):\n",
    "    W = init_weights(shape)\n",
    "    b = init_bias([shape[3]])\n",
    "    return tf.nn.relu(conv2d(input_x, W)+b)"
   ]
  },
  {
   "cell_type": "code",
   "execution_count": 12,
   "metadata": {},
   "outputs": [],
   "source": [
    "# helper func which returns fully connected layer\n",
    "def fully_connected_layer(input_layer, target_size):\n",
    "    \n",
    "#     input_layer would be right before layer \n",
    "#     input_layer will return shape. something like 3 * 6\n",
    "#     index 1 will return num_of column\n",
    "    input_size = int(input_layer.get_shape()[1])\n",
    "    \n",
    "#     product 2 * 3 matrix and 3 * 4 matrix will be 2 * 4 matrix\n",
    "#     so we setting column size as target_size\n",
    "    W = init_weights([input_size, target_size])\n",
    "    \n",
    "    b = init_bias([target_size])\n",
    "    \n",
    "    return tf.matmul(input_layer, W)+b"
   ]
  },
  {
   "cell_type": "code",
   "execution_count": 13,
   "metadata": {},
   "outputs": [],
   "source": [
    "# placeholders\n",
    "\n",
    "# batch size is unknown, so None\n",
    "# mnist image size is 28 * 28 = 784\n",
    "x = tf.placeholder(tf.float32,shape =[None, 784])\n",
    "\n",
    "# we tried to guess 1 - 10 numbers\n",
    "y_true = tf.placeholder(tf.float32, shape = [None, 10])"
   ]
  },
  {
   "cell_type": "code",
   "execution_count": 14,
   "metadata": {},
   "outputs": [],
   "source": [
    "# if i use -1 in the shape, that means remainder which is decided after every others takes data\n",
    "# 28 heights, 28 width, 1 channel\n",
    "x_image = tf.reshape(x, shape=[-1,28,28,1])"
   ]
  },
  {
   "cell_type": "code",
   "execution_count": 15,
   "metadata": {},
   "outputs": [
    {
     "name": "stdout",
     "output_type": "stream",
     "text": [
      "WARNING:tensorflow:From /anaconda3/lib/python3.7/site-packages/tensorflow/python/framework/op_def_library.py:263: colocate_with (from tensorflow.python.framework.ops) is deprecated and will be removed in a future version.\n",
      "Instructions for updating:\n",
      "Colocations handled automatically by placer.\n"
     ]
    }
   ],
   "source": [
    "# layer 1\n",
    "\n",
    "# filter size is 5 by 5\n",
    "# channel in is 1 (gray channel image)\n",
    "# channel out is 32 (32 features)\n",
    "convo_1 = convolution_layer(x_image,shape=[5,5,1,32])\n",
    "maxpooling_1 = max_pooling_2by2(convo_1)"
   ]
  },
  {
   "cell_type": "code",
   "execution_count": 16,
   "metadata": {},
   "outputs": [],
   "source": [
    "# layer 2\n",
    "\n",
    "# filter size is 5 by 5\n",
    "# channel in is 32 (decided by layer 1)\n",
    "# channel out is 64 (64 features)\n",
    "convo_2 = convolution_layer(input_x=maxpooling_1 , shape=[5,5,32,64])\n",
    "maxpooling_2 = max_pooling_2by2(convo_2)"
   ]
  },
  {
   "cell_type": "code",
   "execution_count": 17,
   "metadata": {},
   "outputs": [
    {
     "data": {
      "text/plain": [
       "TensorShape([Dimension(None), Dimension(7), Dimension(7), Dimension(64)])"
      ]
     },
     "execution_count": 17,
     "metadata": {},
     "output_type": "execute_result"
    }
   ],
   "source": [
    "maxpooling_2.shape"
   ]
  },
  {
   "cell_type": "code",
   "execution_count": 18,
   "metadata": {},
   "outputs": [],
   "source": [
    "# layer 3\n",
    "flat_maxpooling_2 = tf.reshape(maxpooling_2, shape=[-1, 7*7*64]) \n",
    "full_layer_one = tf.nn.relu(fully_connected_layer(flat_maxpooling_2, 1024))"
   ]
  },
  {
   "cell_type": "code",
   "execution_count": 19,
   "metadata": {},
   "outputs": [],
   "source": [
    "# dropout \n",
    "# dropout is for reducing overfitting\n",
    "\n",
    "dropout_rate = tf.placeholder(tf.float32)\n",
    "full_one_dropout = tf.nn.dropout(full_layer_one, rate= dropout_rate)"
   ]
  },
  {
   "cell_type": "code",
   "execution_count": 20,
   "metadata": {},
   "outputs": [],
   "source": [
    "# we need 10 classes (1-10)\n",
    "y_pred = fully_connected_layer(full_one_dropout, 10)"
   ]
  },
  {
   "cell_type": "markdown",
   "metadata": {},
   "source": [
    "#### ref) https://stackoverflow.com/a/34272341/3151712\n",
    "#### tf.nn.softmax computes the forward propagation through a softmax layer. You use it during evaluation of the model when you compute the probabilities that the model outputs.\n",
    "\n",
    "#### tf.nn.softmax_cross_entropy_with_logits computes the cost for a softmax layer. It is only used during training.\n",
    "\n",
    "#### The logits are the unnormalized log probabilities output the model (the values output before the softmax normalization is applied to them)."
   ]
  },
  {
   "cell_type": "code",
   "execution_count": 21,
   "metadata": {},
   "outputs": [],
   "source": [
    "# loss function\n",
    "\n",
    "# comparing y_true and y_pred , and get the average of the values\n",
    "cross_entropy = tf.reduce_mean(tf.nn.softmax_cross_entropy_with_logits_v2(labels=y_true, logits=y_pred ))"
   ]
  },
  {
   "cell_type": "code",
   "execution_count": 22,
   "metadata": {},
   "outputs": [],
   "source": [
    "# optimizer\n",
    "\n",
    "optimizer = tf.train.AdamOptimizer(learning_rate=0.02)\n",
    "train = optimizer.minimize(cross_entropy)"
   ]
  },
  {
   "cell_type": "code",
   "execution_count": 23,
   "metadata": {},
   "outputs": [],
   "source": [
    "init = tf.global_variables_initializer()"
   ]
  },
  {
   "cell_type": "code",
   "execution_count": 24,
   "metadata": {},
   "outputs": [],
   "source": [
    "steps = 100"
   ]
  },
  {
   "cell_type": "code",
   "execution_count": 25,
   "metadata": {},
   "outputs": [
    {
     "name": "stdout",
     "output_type": "stream",
     "text": [
      "0 steps right now\n",
      "accuracy = \n",
      "WARNING:tensorflow:From <ipython-input-25-9c4f2f654602>:14: arg_max (from tensorflow.python.ops.gen_math_ops) is deprecated and will be removed in a future version.\n",
      "Instructions for updating:\n",
      "Use `tf.math.argmax` instead\n",
      "0.0974\n",
      "\n",
      "\n",
      "[False False False ... False False False]\n",
      "\n",
      "\n",
      "10 steps right now\n",
      "accuracy = \n",
      "0.2296\n",
      "\n",
      "\n",
      "[False False  True ... False False False]\n",
      "\n",
      "\n",
      "20 steps right now\n",
      "accuracy = \n",
      "0.2377\n",
      "\n",
      "\n",
      "[False False  True ... False False False]\n",
      "\n",
      "\n",
      "30 steps right now\n",
      "accuracy = \n",
      "0.4117\n",
      "\n",
      "\n",
      "[False False  True ... False False  True]\n",
      "\n",
      "\n",
      "40 steps right now\n",
      "accuracy = \n",
      "0.5193\n",
      "\n",
      "\n",
      "[ True  True  True ... False False  True]\n",
      "\n",
      "\n",
      "50 steps right now\n",
      "accuracy = \n",
      "0.6321\n",
      "\n",
      "\n",
      "[ True  True  True ... False False  True]\n",
      "\n",
      "\n",
      "60 steps right now\n",
      "accuracy = \n",
      "0.7002\n",
      "\n",
      "\n",
      "[ True  True  True ... False  True  True]\n",
      "\n",
      "\n",
      "70 steps right now\n",
      "accuracy = \n",
      "0.722\n",
      "\n",
      "\n",
      "[ True  True  True ... False  True  True]\n",
      "\n",
      "\n",
      "80 steps right now\n",
      "accuracy = \n",
      "0.7326\n",
      "\n",
      "\n",
      "[ True  True  True ... False  True  True]\n",
      "\n",
      "\n",
      "90 steps right now\n",
      "accuracy = \n",
      "0.7777\n",
      "\n",
      "\n",
      "[ True  True  True ... False  True  True]\n",
      "\n",
      "\n"
     ]
    }
   ],
   "source": [
    "with tf.Session() as sess:\n",
    "    sess.run(init)\n",
    "    \n",
    "    for i in range(steps):\n",
    "        \n",
    "        x_batch, y_batch = mnist.train.next_batch(50)\n",
    "        \n",
    "        sess.run(train, feed_dict={x:x_batch, y_true:y_batch, dropout_rate:0.1})\n",
    "        \n",
    "        if i%10 == 0:\n",
    "            print(\"{} steps right now\".format(i))\n",
    "            print(\"accuracy = \")\n",
    "            \n",
    "            num_matches = tf.equal(tf.arg_max(y_pred,1),tf.arg_max(y_true,1))\n",
    "        \n",
    "            accuracy = tf.reduce_mean(tf.cast(num_matches,tf.float32))\n",
    "            \n",
    "            acc , matches = sess.run([accuracy,num_matches], feed_dict={x:mnist.test.images, y_true:mnist.test.labels, dropout_rate:0})\n",
    "        \n",
    "            print(acc)\n",
    "            print(\"\\n\")\n",
    "            print(matches)\n",
    "\n",
    "            \n",
    "            print(\"\\n\")\n",
    "        \n",
    "        "
   ]
  },
  {
   "cell_type": "code",
   "execution_count": null,
   "metadata": {},
   "outputs": [],
   "source": []
  }
 ],
 "metadata": {
  "kernelspec": {
   "display_name": "Python 3",
   "language": "python",
   "name": "python3"
  },
  "language_info": {
   "codemirror_mode": {
    "name": "ipython",
    "version": 3
   },
   "file_extension": ".py",
   "mimetype": "text/x-python",
   "name": "python",
   "nbconvert_exporter": "python",
   "pygments_lexer": "ipython3",
   "version": "3.7.2"
  }
 },
 "nbformat": 4,
 "nbformat_minor": 2
}
