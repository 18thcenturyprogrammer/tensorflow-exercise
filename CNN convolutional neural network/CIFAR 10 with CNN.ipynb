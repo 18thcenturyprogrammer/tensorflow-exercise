{
 "cells": [
  {
   "cell_type": "code",
   "execution_count": 348,
   "metadata": {},
   "outputs": [],
   "source": [
    "import numpy as np"
   ]
  },
  {
   "cell_type": "code",
   "execution_count": 349,
   "metadata": {},
   "outputs": [],
   "source": [
    "# path to data\n",
    "CIFAR_DIR = \"cifar-10-batches-py/\""
   ]
  },
  {
   "cell_type": "code",
   "execution_count": 350,
   "metadata": {},
   "outputs": [],
   "source": [
    "def unpickle (file):\n",
    "    import pickle\n",
    "    \n",
    "    with open(file, mode='rb') as fo:\n",
    "        cifar_dict = pickle.load(fo, encoding = \"bytes\")\n",
    "    return cifar_dict"
   ]
  },
  {
   "cell_type": "code",
   "execution_count": 351,
   "metadata": {},
   "outputs": [],
   "source": [
    "filenames = [\"batches.meta\",\"data_batch_1\",\"data_batch_2\",\"data_batch_3\",\"data_batch_4\",\"data_batch_5\",\"test_batch\"]"
   ]
  },
  {
   "cell_type": "code",
   "execution_count": 352,
   "metadata": {},
   "outputs": [],
   "source": [
    "# put all differents data file into one big list, all_data\n",
    "\n",
    "all_data_index = [0,1,2,3,4,5,6]\n",
    "all_data = [0,1,2,3,4,5,6]\n",
    "\n",
    "# https://www.geeksforgeeks.org/zip-in-python/\n",
    "# The purpose of zip() is to map the similar index of multiple containers so that they can be used just using as single entity.\n",
    "for filename, index in zip(filenames,all_data_index):\n",
    "    all_data[index] = unpickle(CIFAR_DIR+filename)"
   ]
  },
  {
   "cell_type": "code",
   "execution_count": 353,
   "metadata": {},
   "outputs": [],
   "source": [
    "# put data into same name variables as filename\n",
    "\n",
    "batches_meta = all_data[0]\n",
    "data_batch_1 = all_data[1]\n",
    "data_batch_2 = all_data[2]\n",
    "data_batch_3 = all_data[3]\n",
    "data_batch_4 = all_data[4]\n",
    "data_batch_5 = all_data[5]\n",
    "test_batch = all_data[6]"
   ]
  },
  {
   "cell_type": "code",
   "execution_count": 354,
   "metadata": {},
   "outputs": [
    {
     "data": {
      "text/plain": [
       "{b'num_cases_per_batch': 10000,\n",
       " b'label_names': [b'airplane',\n",
       "  b'automobile',\n",
       "  b'bird',\n",
       "  b'cat',\n",
       "  b'deer',\n",
       "  b'dog',\n",
       "  b'frog',\n",
       "  b'horse',\n",
       "  b'ship',\n",
       "  b'truck'],\n",
       " b'num_vis': 3072}"
      ]
     },
     "execution_count": 354,
     "metadata": {},
     "output_type": "execute_result"
    }
   ],
   "source": [
    "batches_meta"
   ]
  },
  {
   "cell_type": "code",
   "execution_count": 355,
   "metadata": {},
   "outputs": [
    {
     "data": {
      "text/plain": [
       "dict_keys([b'batch_label', b'labels', b'data', b'filenames'])"
      ]
     },
     "execution_count": 355,
     "metadata": {},
     "output_type": "execute_result"
    }
   ],
   "source": [
    "data_batch_1.keys()"
   ]
  },
  {
   "cell_type": "code",
   "execution_count": null,
   "metadata": {},
   "outputs": [],
   "source": [
    "data_batch_1"
   ]
  },
  {
   "cell_type": "markdown",
   "metadata": {},
   "source": [
    "## Data structure\n",
    "Loaded in this way, each of the batch files contains a dictionary with the following elements:\n",
    "\n",
    "- data -- a 10000x3072 numpy array of uint8s. Each row of the array stores a 32x32 colour image. The first 1024 entries contain the red channel values, the next 1024 the green, and the final 1024 the blue. The image is stored in row-major order, so that the first 32 entries of the array are the red channel values of the first row of the image.\n",
    "\n",
    "each batch has 10000 images<br>\n",
    "image size is 32 * 32<br>\n",
    "image has 3 channels<br>\n",
    "first 1024 features are about red<br>\n",
    "second 1024 are for green<br>\n",
    "\n",
    "- labels -- a list of 10000 numbers in the range 0-9. The number at index i indicates the label of the ith image in the array data.\n",
    "\n",
    "The dataset contains another file, called batches.meta. It too contains a Python dictionary object. It has the following entries:\n",
    "\n",
    "- label_names -- a 10-element list which gives meaningful names to the numeric labels in the labels array described above. For example, label_names[0] == \"airplane\", label_names[1] == \"automobile\", etc."
   ]
  },
  {
   "cell_type": "markdown",
   "metadata": {},
   "source": [
    "<hr>"
   ]
  },
  {
   "cell_type": "markdown",
   "metadata": {},
   "source": [
    "## showing one image for better understanding\n",
    "\n",
    "image data is in data_batch_1[b\"data\"] <br>\n",
    "image data is long one vector. we need to change the vector into tensor by image size, num of channels <br>\n",
    "and we need to transpose tensor,so matplot.pyplot can show the image. pyplot accept certain formatted image data. <br>\n",
    "#### X = X.reshape(10000, 3, 32, 32).transpose(0,2,3,1).atype(uint8)"
   ]
  },
  {
   "cell_type": "markdown",
   "metadata": {},
   "source": [
    "<hr>\n",
    "\n",
    "## one image"
   ]
  },
  {
   "cell_type": "code",
   "execution_count": 357,
   "metadata": {},
   "outputs": [],
   "source": [
    "batch1_all_images = data_batch_1[b\"data\"]"
   ]
  },
  {
   "cell_type": "code",
   "execution_count": 358,
   "metadata": {},
   "outputs": [
    {
     "data": {
      "text/plain": [
       "(10000, 3072)"
      ]
     },
     "execution_count": 358,
     "metadata": {},
     "output_type": "execute_result"
    }
   ],
   "source": [
    "batch1_all_images.shape"
   ]
  },
  {
   "cell_type": "code",
   "execution_count": 359,
   "metadata": {},
   "outputs": [],
   "source": [
    "one_image = batch1_all_images[0]"
   ]
  },
  {
   "cell_type": "code",
   "execution_count": 360,
   "metadata": {},
   "outputs": [
    {
     "data": {
      "text/plain": [
       "(3072,)"
      ]
     },
     "execution_count": 360,
     "metadata": {},
     "output_type": "execute_result"
    }
   ],
   "source": [
    "one_image.shape"
   ]
  },
  {
   "cell_type": "code",
   "execution_count": 361,
   "metadata": {},
   "outputs": [],
   "source": [
    "one_image = one_image.reshape(3,32,32)"
   ]
  },
  {
   "cell_type": "code",
   "execution_count": 362,
   "metadata": {},
   "outputs": [
    {
     "data": {
      "text/plain": [
       "array([[[ 59,  43,  50, ..., 158, 152, 148],\n",
       "        [ 16,   0,  18, ..., 123, 119, 122],\n",
       "        [ 25,  16,  49, ..., 118, 120, 109],\n",
       "        ...,\n",
       "        [208, 201, 198, ..., 160,  56,  53],\n",
       "        [180, 173, 186, ..., 184,  97,  83],\n",
       "        [177, 168, 179, ..., 216, 151, 123]],\n",
       "\n",
       "       [[ 62,  46,  48, ..., 132, 125, 124],\n",
       "        [ 20,   0,   8, ...,  88,  83,  87],\n",
       "        [ 24,   7,  27, ...,  84,  84,  73],\n",
       "        ...,\n",
       "        [170, 153, 161, ..., 133,  31,  34],\n",
       "        [139, 123, 144, ..., 148,  62,  53],\n",
       "        [144, 129, 142, ..., 184, 118,  92]],\n",
       "\n",
       "       [[ 63,  45,  43, ..., 108, 102, 103],\n",
       "        [ 20,   0,   0, ...,  55,  50,  57],\n",
       "        [ 21,   0,   8, ...,  50,  50,  42],\n",
       "        ...,\n",
       "        [ 96,  34,  26, ...,  70,   7,  20],\n",
       "        [ 96,  42,  30, ...,  94,  34,  34],\n",
       "        [116,  94,  87, ..., 140,  84,  72]]], dtype=uint8)"
      ]
     },
     "execution_count": 362,
     "metadata": {},
     "output_type": "execute_result"
    }
   ],
   "source": [
    "one_image"
   ]
  },
  {
   "cell_type": "code",
   "execution_count": 363,
   "metadata": {},
   "outputs": [],
   "source": [
    "one_image = one_image.transpose(1,2,0)"
   ]
  },
  {
   "cell_type": "code",
   "execution_count": 364,
   "metadata": {},
   "outputs": [
    {
     "data": {
      "text/plain": [
       "array([[[ 59,  62,  63],\n",
       "        [ 43,  46,  45],\n",
       "        [ 50,  48,  43],\n",
       "        ...,\n",
       "        [158, 132, 108],\n",
       "        [152, 125, 102],\n",
       "        [148, 124, 103]],\n",
       "\n",
       "       [[ 16,  20,  20],\n",
       "        [  0,   0,   0],\n",
       "        [ 18,   8,   0],\n",
       "        ...,\n",
       "        [123,  88,  55],\n",
       "        [119,  83,  50],\n",
       "        [122,  87,  57]],\n",
       "\n",
       "       [[ 25,  24,  21],\n",
       "        [ 16,   7,   0],\n",
       "        [ 49,  27,   8],\n",
       "        ...,\n",
       "        [118,  84,  50],\n",
       "        [120,  84,  50],\n",
       "        [109,  73,  42]],\n",
       "\n",
       "       ...,\n",
       "\n",
       "       [[208, 170,  96],\n",
       "        [201, 153,  34],\n",
       "        [198, 161,  26],\n",
       "        ...,\n",
       "        [160, 133,  70],\n",
       "        [ 56,  31,   7],\n",
       "        [ 53,  34,  20]],\n",
       "\n",
       "       [[180, 139,  96],\n",
       "        [173, 123,  42],\n",
       "        [186, 144,  30],\n",
       "        ...,\n",
       "        [184, 148,  94],\n",
       "        [ 97,  62,  34],\n",
       "        [ 83,  53,  34]],\n",
       "\n",
       "       [[177, 144, 116],\n",
       "        [168, 129,  94],\n",
       "        [179, 142,  87],\n",
       "        ...,\n",
       "        [216, 184, 140],\n",
       "        [151, 118,  84],\n",
       "        [123,  92,  72]]], dtype=uint8)"
      ]
     },
     "execution_count": 364,
     "metadata": {},
     "output_type": "execute_result"
    }
   ],
   "source": [
    "one_image"
   ]
  },
  {
   "cell_type": "code",
   "execution_count": 365,
   "metadata": {},
   "outputs": [
    {
     "data": {
      "text/plain": [
       "<matplotlib.image.AxesImage at 0x11960fd30>"
      ]
     },
     "execution_count": 365,
     "metadata": {},
     "output_type": "execute_result"
    },
    {
     "data": {
      "image/png": "[encoded data removed]",
      "text/plain": [
       "<Figure size 432x288 with 1 Axes>"
      ]
     },
     "metadata": {
      "needs_background": "light"
     },
     "output_type": "display_data"
    }
   ],
   "source": [
    "plt.imshow(one_image)"
   ]
  },
  {
   "cell_type": "markdown",
   "metadata": {},
   "source": [
    "<hr>\n",
    "\n",
    "##  expanding idea to images"
   ]
  },
  {
   "cell_type": "code",
   "execution_count": 366,
   "metadata": {},
   "outputs": [
    {
     "data": {
      "text/plain": [
       "(10000, 3072)"
      ]
     },
     "execution_count": 366,
     "metadata": {},
     "output_type": "execute_result"
    }
   ],
   "source": [
    "data_batch_1[b\"data\"].shape"
   ]
  },
  {
   "cell_type": "code",
   "execution_count": 367,
   "metadata": {},
   "outputs": [],
   "source": [
    "X = data_batch_1[b\"data\"]"
   ]
  },
  {
   "cell_type": "code",
   "execution_count": null,
   "metadata": {},
   "outputs": [],
   "source": [
    "X.reshape(10000,3,32,32)"
   ]
  },
  {
   "cell_type": "code",
   "execution_count": 369,
   "metadata": {},
   "outputs": [],
   "source": [
    "X= X.reshape(10000,3,32,32).transpose(0,2,3,1).astype(\"uint8\")"
   ]
  },
  {
   "cell_type": "code",
   "execution_count": 370,
   "metadata": {},
   "outputs": [
    {
     "data": {
      "text/plain": [
       "<matplotlib.image.AxesImage at 0x118e06128>"
      ]
     },
     "execution_count": 370,
     "metadata": {},
     "output_type": "execute_result"
    },
    {
     "data": {
      "image/png": "[encoded data removed]",
      "text/plain": [
       "<Figure size 432x288 with 1 Axes>"
      ]
     },
     "metadata": {
      "needs_background": "light"
     },
     "output_type": "display_data"
    }
   ],
   "source": [
    "import matplotlib.pyplot as plt\n",
    "plt.imshow(X[0])"
   ]
  },
  {
   "cell_type": "markdown",
   "metadata": {},
   "source": [
    "<hr>\n",
    "\n",
    "## helper funcs"
   ]
  },
  {
   "cell_type": "code",
   "execution_count": 371,
   "metadata": {},
   "outputs": [],
   "source": [
    "def one_hot_encoding(vec , vals =10):\n",
    "    n = len(vec)\n",
    "    out = np.zeros((n, vals))\n",
    "    out[range(n),vec] = 1\n",
    "    return out"
   ]
  },
  {
   "cell_type": "code",
   "execution_count": 372,
   "metadata": {},
   "outputs": [],
   "source": [
    "class CifarHelper():\n",
    "    def __init__(self):\n",
    "#         image index for tracking batch images\n",
    "        self.i = 0\n",
    "    \n",
    "#       put all batches in one big list\n",
    "        self.all_train_batches = [data_batch_1,data_batch_2,data_batch_3,data_batch_4,data_batch_5]\n",
    "        self.test_batch = [test_batch]\n",
    "\n",
    "        self.training_images = []\n",
    "        self.training_labels = []\n",
    "\n",
    "        self.test_images = []\n",
    "        self.test_labels = []\n",
    "        \n",
    "        self.temp_images = []\n",
    "    \n",
    "    \n",
    "    def show_random_one_img(self):\n",
    "        print(\"showing random one image\")\n",
    "        \n",
    "        # put all images vectors into one matrix\n",
    "        self.temp_images = np.vstack([batch[b'data'] for batch in self.all_train_batches])\n",
    "        \n",
    "        num_train_images = len(self.temp_images)\n",
    "        \n",
    "        # change vectors into tensor which is suited with pyplot imshow \n",
    "        self.temp_images = self.temp_images.reshape(num_train_images,3,32,32).transpose(0,2,3,1)\n",
    "        \n",
    "        random_index = np.random.randint(0,num_train_images)\n",
    "        \n",
    "        plt.imshow(self.temp_images[random_index])\n",
    "    \n",
    "    \n",
    "    def set_up_images(self):\n",
    "        \n",
    "        print(\"setting up TRAINING images and labels\")\n",
    "        \n",
    "        # put all images vectors into one matrix\n",
    "        self.training_images = np.vstack([batch[b'data'] for batch in self.all_train_batches])\n",
    "        \n",
    "        num_train_images = len(self.training_images)\n",
    "        \n",
    "        # change images vectors into tensor which is suited with pyplot imshow \n",
    "        self.training_images = self.training_images.reshape(num_train_images,3,32,32).transpose(0,2,3,1)/255\n",
    "        \n",
    "        # stack labels into one vector\n",
    "        self.training_labels = one_hot_encoding(np.hstack([batch[b'labels'] for batch in self.all_train_batches]),10)\n",
    "    \n",
    "    \n",
    "        print(\"setting up TEST images and labels\")                                   \n",
    "        \n",
    "        self.test_images = np.vstack([batch[b'data'] for batch in self.test_batch])\n",
    "        num_test_images = len(self.test_images)\n",
    "        self.test_images = self.test_images.reshape(num_test_images,3,32,32).transpose(0,2,3,1)/255\n",
    "        self.test_labels = one_hot_encoding(np.hstack([batch[b'labels'] for batch in self.test_batch]),10)\n",
    "        \n",
    "    def next_batch(self, batch_size):\n",
    "#         print(\"number : {} images batched \\n\".format(batch_size))\n",
    "        x = self.training_images[self.i: self.i+batch_size]\n",
    "        y = self.training_labels[self.i: self.i+batch_size]\n",
    "        self.i = self.i + batch_size\n",
    "        \n",
    "        return x, y\n",
    "        "
   ]
  },
  {
   "cell_type": "code",
   "execution_count": 373,
   "metadata": {},
   "outputs": [
    {
     "name": "stdout",
     "output_type": "stream",
     "text": [
      "showing random one image\n"
     ]
    },
    {
     "data": {
      "image/png": "[encoded data removed]",
      "text/plain": [
       "<Figure size 432x288 with 1 Axes>"
      ]
     },
     "metadata": {
      "needs_background": "light"
     },
     "output_type": "display_data"
    }
   ],
   "source": [
    "cifarhelper_obj = CifarHelper()\n",
    "cifarhelper_obj.show_random_one_img()\n",
    "\n"
   ]
  },
  {
   "cell_type": "code",
   "execution_count": 374,
   "metadata": {},
   "outputs": [
    {
     "name": "stdout",
     "output_type": "stream",
     "text": [
      "setting up TRAINING images and labels\n",
      "setting up TEST images and labels\n"
     ]
    }
   ],
   "source": [
    "cifarhelper_obj.set_up_images()\n",
    "# cifarhelper_obj.next_batch(1000)"
   ]
  },
  {
   "cell_type": "markdown",
   "metadata": {},
   "source": [
    "<hr>\n",
    "\n",
    "## building model"
   ]
  },
  {
   "cell_type": "code",
   "execution_count": 375,
   "metadata": {},
   "outputs": [],
   "source": [
    "import tensorflow as tf\n",
    "\n",
    "x = tf.placeholder(tf.float32, shape = [None, 32, 32, 3])\n",
    "y_true = tf.placeholder(tf.float32, shape = [None, 10])\n",
    "drop_rate = tf.placeholder(tf.float32)"
   ]
  },
  {
   "cell_type": "markdown",
   "metadata": {},
   "source": [
    "### Helper Functions\n",
    "\n",
    "** Grab the helper functions from MNIST with CNN (or recreate them here yourself for a hard challenge!). You'll need: **\n",
    "\n",
    "* init_weights\n",
    "* init_bias\n",
    "* conv2d\n",
    "* max_pool_2by2\n",
    "* convolutional_layer"
   ]
  },
  {
   "cell_type": "code",
   "execution_count": 376,
   "metadata": {},
   "outputs": [],
   "source": [
    "# we using same funcs which are in file \"MNIST classification with CNN\"\n",
    "\n",
    "\n",
    "def init_weights(shape):\n",
    "    init_random_dist = tf.truncated_normal(shape, stddev=0.1)\n",
    "    return tf.Variable(init_random_dist)\n",
    "\n",
    "def init_bias(shape):\n",
    "    init_bias_vals = tf.constant(0.1, shape=shape)\n",
    "    return tf.Variable(init_bias_vals)\n",
    "\n",
    "def conv2d(x, W):\n",
    "    return tf.nn.conv2d(x, W, strides=[1, 1, 1, 1], padding='SAME')\n",
    "\n",
    "def max_pool_2by2(x):\n",
    "    return tf.nn.max_pool(x, ksize=[1, 2, 2, 1],\n",
    "                          strides=[1, 2, 2, 1], padding='SAME')\n",
    "\n",
    "def convolutional_layer(input_x, shape):\n",
    "    W = init_weights(shape)\n",
    "    b = init_bias([shape[3]])\n",
    "    return tf.nn.relu(conv2d(input_x, W) + b)\n",
    "\n",
    "def normal_full_layer(input_layer, size):\n",
    "    input_size = int(input_layer.get_shape()[1])\n",
    "    W = init_weights([input_size, size])\n",
    "    b = init_bias([size])\n",
    "    return tf.matmul(input_layer, W) + b"
   ]
  },
  {
   "cell_type": "markdown",
   "metadata": {},
   "source": [
    "### Create the Layers\n",
    "\n",
    "** Create a convolutional layer and a pooling layer as we did for MNIST. **\n",
    "** Its up to you what the 2d size of the convolution should be, but the last two digits need to be 3 and 32 because of the 3 color channels and 32 pixels. So for example you could use:**\n",
    "\n",
    "        convo_1 = convolutional_layer(x,shape=[4,4,3,32])"
   ]
  },
  {
   "cell_type": "code",
   "execution_count": 377,
   "metadata": {},
   "outputs": [],
   "source": [
    "conv_1 = convolutional_layer(x, shape=[4,4,3,32])\n",
    "pool_1 = max_pool_2by2(conv_1)\n",
    "\n",
    "conv_2 = convolutional_layer(pool_1, shape=[4,4,32,64])\n",
    "pool_2 = max_pool_2by2(conv_2)\n",
    "\n",
    "flat_pool_2 = tf.reshape(pool_2, shape=[-1,8*8*64])\n",
    "\n",
    "full_layer_1 = tf.nn.relu(normal_full_layer(flat_pool_2, 1024))\n",
    "\n",
    "dropped_out_full_layer_1 = tf.nn.dropout(full_layer_1, rate = drop_rate)\n",
    "\n",
    "y_pred = normal_full_layer(dropped_out_full_layer_1, 10)"
   ]
  },
  {
   "cell_type": "markdown",
   "metadata": {},
   "source": [
    "<hr>\n",
    "\n",
    "\n",
    "## loss fucntion"
   ]
  },
  {
   "cell_type": "code",
   "execution_count": 378,
   "metadata": {},
   "outputs": [],
   "source": [
    "cross_entropy = tf.reduce_mean(tf.nn.softmax_cross_entropy_with_logits_v2(labels = y_true, logits= y_pred))"
   ]
  },
  {
   "cell_type": "markdown",
   "metadata": {},
   "source": [
    " <hr>\n",
    " \n",
    " ## optimizer"
   ]
  },
  {
   "cell_type": "code",
   "execution_count": 379,
   "metadata": {},
   "outputs": [],
   "source": [
    "optimizer = tf.train.AdamOptimizer(learning_rate= 0.001)\n",
    "train = optimizer.minimize(cross_entropy)"
   ]
  },
  {
   "cell_type": "code",
   "execution_count": 380,
   "metadata": {},
   "outputs": [],
   "source": [
    "init = tf.global_variables_initializer()"
   ]
  },
  {
   "cell_type": "markdown",
   "metadata": {},
   "source": [
    "<hr>\n",
    "\n",
    "## session"
   ]
  },
  {
   "cell_type": "code",
   "execution_count": null,
   "metadata": {},
   "outputs": [],
   "source": [
    "with tf.Session() as sess:\n",
    "    sess.run(init)\n",
    "    \n",
    "    for i in range(5000):\n",
    "        \n",
    "        batch = cifarhelper_obj.next_batch(100)\n",
    "#         print(batch)\n",
    "        sess.run(train, feed_dict = {x:batch[0], y_true:batch[1], drop_rate: 0.5})\n",
    "        \n",
    "        # PRINT OUT A MESSAGE EVERY 100 STEPS\n",
    "        if i%10 == 0:\n",
    "            \n",
    "            print('Currently on step {}'.format(i))\n",
    "            print('Accuracy is:')\n",
    "            # Test the Train Model\n",
    "            matches = tf.equal(tf.argmax(y_pred,1),tf.argmax(y_true,1))\n",
    "\n",
    "            acc = tf.reduce_mean(tf.cast(matches,tf.float32))\n",
    "\n",
    "            print(sess.run(acc,feed_dict={x:cifarhelper_obj.test_images,y_true:cifarhelper_obj.test_labels,drop_rate:0.0}))\n",
    "            print('\\n')"
   ]
  },
  {
   "cell_type": "code",
   "execution_count": null,
   "metadata": {},
   "outputs": [],
   "source": []
  }
 ],
 "metadata": {
  "kernelspec": {
   "display_name": "Python 3",
   "language": "python",
   "name": "python3"
  },
  "language_info": {
   "codemirror_mode": {
    "name": "ipython",
    "version": 3
   },
   "file_extension": ".py",
   "mimetype": "text/x-python",
   "name": "python",
   "nbconvert_exporter": "python",
   "pygments_lexer": "ipython3",
   "version": "3.7.2"
  }
 },
 "nbformat": 4,
 "nbformat_minor": 2
}
