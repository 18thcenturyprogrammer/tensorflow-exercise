{
 "cells": [
  {
   "cell_type": "code",
   "execution_count": 15,
   "metadata": {},
   "outputs": [],
   "source": [
    "import tensorflow as tf\n",
    "import numpy as np"
   ]
  },
  {
   "cell_type": "code",
   "execution_count": 16,
   "metadata": {},
   "outputs": [],
   "source": [
    "np.random.seed(101)"
   ]
  },
  {
   "cell_type": "code",
   "execution_count": 17,
   "metadata": {},
   "outputs": [],
   "source": [
    "tf.set_random_seed(101)"
   ]
  },
  {
   "cell_type": "code",
   "execution_count": 18,
   "metadata": {},
   "outputs": [],
   "source": [
    "rand_data_a = np.random.uniform(0,100,(10,10))"
   ]
  },
  {
   "cell_type": "code",
   "execution_count": 19,
   "metadata": {},
   "outputs": [],
   "source": [
    "rand_data_b = np.random.uniform(0,100,(10,1))"
   ]
  },
  {
   "cell_type": "code",
   "execution_count": 20,
   "metadata": {
    "scrolled": true
   },
   "outputs": [
    {
     "data": {
      "text/plain": [
       "array([[51.63986277, 57.06675869,  2.84742265, 17.15216562, 68.52769817,\n",
       "        83.38968626, 30.69662197, 89.36130797, 72.15438618, 18.99389542],\n",
       "       [55.42275911, 35.2131954 , 18.18924027, 78.56017619, 96.54832224,\n",
       "        23.23536618,  8.35614337, 60.35484223, 72.89927573, 27.62388285],\n",
       "       [68.53063288, 51.78674742,  4.84845374, 13.78692376, 18.69674261,\n",
       "        99.43179012, 52.06653967, 57.87895355, 73.48190583, 54.19617722],\n",
       "       [91.31535577, 80.7920151 , 40.29978307, 35.72243428, 95.28767147,\n",
       "        34.36315779, 86.50998163, 83.02777122, 53.81614492, 92.24693726],\n",
       "       [ 9.71464798, 10.28474932, 70.15072957, 89.04798691, 15.95603009,\n",
       "        27.55725449, 67.24915297, 16.4303124 , 70.13711366, 48.76352222],\n",
       "       [68.06777682, 52.15481923,  4.33966944, 22.39366035, 57.52050869,\n",
       "        12.04336601, 50.01167138, 13.80095683,  5.28084011, 17.82769225],\n",
       "       [44.23681315, 87.75873246, 94.9264129 , 47.81674168, 46.11193423,\n",
       "        63.7289031 , 32.46079964, 11.7578093 ,  5.11009964, 63.76586528],\n",
       "       [81.22658949, 67.02604203, 65.17677035, 42.45689436, 65.65953362,\n",
       "        20.91614989, 65.99245189, 52.96233988, 74.85203699,  9.37568559],\n",
       "       [78.452185  , 68.72420376, 69.50784965, 49.68665196, 97.5361127 ,\n",
       "        20.35276206, 29.90204097, 22.76558928,  4.81688854, 90.39713575],\n",
       "       [ 8.01035387, 60.72162718, 63.08467036, 37.79419319,  1.32410111,\n",
       "        84.22194119, 38.49377461, 55.16658451, 71.05381401, 67.52788507]])"
      ]
     },
     "execution_count": 20,
     "metadata": {},
     "output_type": "execute_result"
    }
   ],
   "source": [
    "rand_data_a"
   ]
  },
  {
   "cell_type": "code",
   "execution_count": 21,
   "metadata": {},
   "outputs": [
    {
     "data": {
      "text/plain": [
       "array([[69.45646648],\n",
       "       [34.24567679],\n",
       "       [41.23905637],\n",
       "       [23.97909655],\n",
       "       [96.88359762],\n",
       "       [28.85570076],\n",
       "       [14.73116127],\n",
       "       [12.93404399],\n",
       "       [94.40560505],\n",
       "       [35.14342645]])"
      ]
     },
     "execution_count": 21,
     "metadata": {},
     "output_type": "execute_result"
    }
   ],
   "source": [
    "rand_data_b"
   ]
  },
  {
   "cell_type": "code",
   "execution_count": 22,
   "metadata": {},
   "outputs": [],
   "source": [
    "placeholder_a = tf.placeholder(tf.float32)"
   ]
  },
  {
   "cell_type": "code",
   "execution_count": 23,
   "metadata": {},
   "outputs": [],
   "source": [
    "placeholder_b = tf.placeholder(tf.float32)\n",
    "\n",
    "adding = placeholder_a + placeholder_b\n",
    "multiplying = placeholder_a * placeholder_b\n"
   ]
  },
  {
   "cell_type": "code",
   "execution_count": 30,
   "metadata": {},
   "outputs": [],
   "source": [
    "with tf.Session() as sess:\n",
    "    result = sess.run(adding, feed_dict={placeholder_a:rand_data_a, placeholder_b:rand_data_b})\n",
    "    result\n",
    "    "
   ]
  },
  {
   "cell_type": "code",
   "execution_count": 31,
   "metadata": {},
   "outputs": [
    {
     "data": {
      "text/plain": [
       "array([[121.09633 , 126.523224,  72.30389 ,  86.608635, 137.98416 ,\n",
       "        152.84616 , 100.15309 , 158.81778 , 141.61086 ,  88.45036 ],\n",
       "       [ 89.66844 ,  69.45888 ,  52.434917, 112.80585 , 130.794   ,\n",
       "         57.481045,  42.60182 ,  94.600525, 107.14496 ,  61.86956 ],\n",
       "       [109.769684,  93.0258  ,  46.08751 ,  55.025978,  59.9358  ,\n",
       "        140.67085 ,  93.305595,  99.11801 , 114.72096 ,  95.435234],\n",
       "       [115.29445 , 104.77111 ,  64.27888 ,  59.70153 , 119.26677 ,\n",
       "         58.342255, 110.489075, 107.00687 ,  77.79524 , 116.226036],\n",
       "       [106.59824 , 107.16835 , 167.03433 , 185.93158 , 112.83963 ,\n",
       "        124.44086 , 164.13275 , 113.31391 , 167.02072 , 145.64713 ],\n",
       "       [ 96.92348 ,  81.01052 ,  33.19537 ,  51.24936 ,  86.376205,\n",
       "         40.899067,  78.86737 ,  42.65666 ,  34.136543,  46.683395],\n",
       "       [ 58.96797 , 102.4899  , 109.65758 ,  62.547905,  60.843094,\n",
       "         78.46007 ,  47.191963,  26.488972,  19.84126 ,  78.497025],\n",
       "       [ 94.16064 ,  79.96008 ,  78.11082 ,  55.390938,  78.593575,\n",
       "         33.850193,  78.9265  ,  65.896385,  87.78608 ,  22.30973 ],\n",
       "       [172.85779 , 163.1298  , 163.91345 , 144.09225 , 191.94171 ,\n",
       "        114.75836 , 124.30764 , 117.17119 ,  99.22249 , 184.80273 ],\n",
       "       [ 43.153778,  95.86505 ,  98.228096,  72.93762 ,  36.467525,\n",
       "        119.365364,  73.6372  ,  90.31001 , 106.19724 , 102.67131 ]],\n",
       "      dtype=float32)"
      ]
     },
     "execution_count": 31,
     "metadata": {},
     "output_type": "execute_result"
    }
   ],
   "source": [
    "result\n"
   ]
  },
  {
   "cell_type": "markdown",
   "metadata": {},
   "source": [
    "# </nspr>\n",
    "# simple neural network step 1"
   ]
  },
  {
   "cell_type": "code",
   "execution_count": 59,
   "metadata": {},
   "outputs": [],
   "source": [
    "num_features = 10\n",
    "num_neurons = 3"
   ]
  },
  {
   "cell_type": "code",
   "execution_count": 60,
   "metadata": {},
   "outputs": [
    {
     "name": "stdout",
     "output_type": "stream",
     "text": [
      "<tf.Variable 'Variable_14:0' shape=(10, 3) dtype=float32_ref>\n",
      "<tf.Variable 'Variable_15:0' shape=(3,) dtype=float32_ref>\n"
     ]
    }
   ],
   "source": [
    "X = tf.placeholder(tf.float32,(None,num_features))\n",
    "W = tf.Variable(tf.random_normal([num_features,num_neurons]))\n",
    "\n",
    "B = tf.Variable(tf.ones([num_neurons]))\n",
    "\n",
    "print(W)\n",
    "\n",
    "print(B)\n"
   ]
  },
  {
   "cell_type": "code",
   "execution_count": 72,
   "metadata": {},
   "outputs": [
    {
     "name": "stdout",
     "output_type": "stream",
     "text": [
      "Tensor(\"Sigmoid_6:0\", shape=(?, 3), dtype=float32)\n",
      "[[0.98763907 0.97560966 0.8304962 ]]\n"
     ]
    }
   ],
   "source": [
    "with tf.Session() as sess:\n",
    "    initializer1 = tf.global_variables_initializer()\n",
    "    sess.run(initializer1)\n",
    "    \n",
    "    XW = tf.matmul(X,W)\n",
    "    Z = tf.add(XW,B)\n",
    "    A = tf.sigmoid(Z)\n",
    "    \n",
    "    sess.run(W)\n",
    "    sess.run(B)\n",
    "    result = sess.run(A, feed_dict ={X:np.random.random((1,num_features))})\n",
    "    print(tf.sigmoid(Z))\n",
    "#     print(W)\n",
    "#     print(B)\n",
    "\n",
    "    print (result)"
   ]
  },
  {
   "cell_type": "code",
   "execution_count": 70,
   "metadata": {},
   "outputs": [
    {
     "data": {
      "text/plain": [
       "<tf.Variable 'Variable_14:0' shape=(10, 3) dtype=float32_ref>"
      ]
     },
     "execution_count": 70,
     "metadata": {},
     "output_type": "execute_result"
    }
   ],
   "source": [
    "W"
   ]
  },
  {
   "cell_type": "code",
   "execution_count": null,
   "metadata": {},
   "outputs": [],
   "source": []
  }
 ],
 "metadata": {
  "kernelspec": {
   "display_name": "Python 3",
   "language": "python",
   "name": "python3"
  },
  "language_info": {
   "codemirror_mode": {
    "name": "ipython",
    "version": 3
   },
   "file_extension": ".py",
   "mimetype": "text/x-python",
   "name": "python",
   "nbconvert_exporter": "python",
   "pygments_lexer": "ipython3",
   "version": "3.7.2"
  }
 },
 "nbformat": 4,
 "nbformat_minor": 2
}
