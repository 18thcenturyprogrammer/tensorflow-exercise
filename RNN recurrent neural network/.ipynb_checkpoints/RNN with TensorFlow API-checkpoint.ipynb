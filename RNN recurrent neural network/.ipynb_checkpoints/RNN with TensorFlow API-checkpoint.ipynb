{
 "cells": [
  {
   "cell_type": "markdown",
   "metadata": {},
   "source": [
    "#### i was confused of this project. i thought the goal is expecting the next value of y by x, but this project is about expecting y value by the right before y value. "
   ]
  },
  {
   "cell_type": "code",
   "execution_count": 507,
   "metadata": {},
   "outputs": [],
   "source": [
    "import numpy as np\n",
    "import tensorflow as tf\n",
    "import matplotlib.pyplot as plt"
   ]
  },
  {
   "cell_type": "code",
   "execution_count": 508,
   "metadata": {},
   "outputs": [],
   "source": [
    "class TimeSeriesData():\n",
    "    \n",
    "    def __init__ (self, num_points, xmax, xmin):\n",
    "        self.num_points = num_points\n",
    "        self.xmax = xmax\n",
    "        self.xmin = xmin\n",
    "        self.resolution = (xmax- xmin)/num_points\n",
    "        self.x_data = np.linspace(xmin, xmax , num_points)\n",
    "        self.y_true = np.sin(self.x_data)\n",
    "        \n",
    "    def return_true(selft, x_series):\n",
    "        return np.sin(x_series)\n",
    "    \n",
    "    def next_batch(self, batch_size, steps, return_batch_ts = False):\n",
    "        # get random starting point in time series\n",
    "        \n",
    "        random_point = np.random.rand(batch_size , 1)\n",
    "        random_starting_on_ts = random_point * (self.xmax - self.xmin - (steps*self.resolution))\n",
    "        \n",
    "        # create batch time series\n",
    "        batch_ts = random_starting_on_ts + np.arange(0.0,steps+1)*self.resolution\n",
    "        \n",
    "        y_batch = np.sin(batch_ts)\n",
    "        \n",
    "        # returning batch in tuple\n",
    "        # first item is current step\n",
    "        # second item is target item which is the next step of current step\n",
    "        if return_batch_ts:\n",
    "            return y_batch[:,:-1].reshape(-1,steps,1), y_batch[:,1:].reshape(-1,steps,1), batch_ts\n",
    "        else:\n",
    "            return y_batch[:,:-1].reshape(-1,steps,1), y_batch[:,1:].reshape(-1,steps,1) "
   ]
  },
  {
   "cell_type": "code",
   "execution_count": 545,
   "metadata": {},
   "outputs": [],
   "source": [
    "timeSeriesDate_obj = TimeSeriesData(100,xmin=0, xmax=1)\n"
   ]
  },
  {
   "cell_type": "code",
   "execution_count": 546,
   "metadata": {},
   "outputs": [
    {
     "data": {
      "text/plain": [
       "array([0.        , 0.01010101, 0.02020202, 0.03030303, 0.04040404,\n",
       "       0.05050505, 0.06060606, 0.07070707, 0.08080808, 0.09090909,\n",
       "       0.1010101 , 0.11111111, 0.12121212, 0.13131313, 0.14141414,\n",
       "       0.15151515, 0.16161616, 0.17171717, 0.18181818, 0.19191919,\n",
       "       0.2020202 , 0.21212121, 0.22222222, 0.23232323, 0.24242424,\n",
       "       0.25252525, 0.26262626, 0.27272727, 0.28282828, 0.29292929,\n",
       "       0.3030303 , 0.31313131, 0.32323232, 0.33333333, 0.34343434,\n",
       "       0.35353535, 0.36363636, 0.37373737, 0.38383838, 0.39393939,\n",
       "       0.4040404 , 0.41414141, 0.42424242, 0.43434343, 0.44444444,\n",
       "       0.45454545, 0.46464646, 0.47474747, 0.48484848, 0.49494949,\n",
       "       0.50505051, 0.51515152, 0.52525253, 0.53535354, 0.54545455,\n",
       "       0.55555556, 0.56565657, 0.57575758, 0.58585859, 0.5959596 ,\n",
       "       0.60606061, 0.61616162, 0.62626263, 0.63636364, 0.64646465,\n",
       "       0.65656566, 0.66666667, 0.67676768, 0.68686869, 0.6969697 ,\n",
       "       0.70707071, 0.71717172, 0.72727273, 0.73737374, 0.74747475,\n",
       "       0.75757576, 0.76767677, 0.77777778, 0.78787879, 0.7979798 ,\n",
       "       0.80808081, 0.81818182, 0.82828283, 0.83838384, 0.84848485,\n",
       "       0.85858586, 0.86868687, 0.87878788, 0.88888889, 0.8989899 ,\n",
       "       0.90909091, 0.91919192, 0.92929293, 0.93939394, 0.94949495,\n",
       "       0.95959596, 0.96969697, 0.97979798, 0.98989899, 1.        ])"
      ]
     },
     "execution_count": 546,
     "metadata": {},
     "output_type": "execute_result"
    }
   ],
   "source": [
    "timeSeriesDate_obj.x_data"
   ]
  },
  {
   "cell_type": "code",
   "execution_count": 547,
   "metadata": {},
   "outputs": [
    {
     "data": {
      "text/plain": [
       "[<matplotlib.lines.Line2D at 0x1c413f6358>]"
      ]
     },
     "execution_count": 547,
     "metadata": {},
     "output_type": "execute_result"
    },
    {
     "data": {
      "image/png": "[encoded data removed]",
      "text/plain": [
       "<Figure size 432x288 with 1 Axes>"
      ]
     },
     "metadata": {
      "needs_background": "light"
     },
     "output_type": "display_data"
    }
   ],
   "source": [
    "plt.plot(timeSeriesDate_obj.x_data, timeSeriesDate_obj.y_true, \"b\")"
   ]
  },
  {
   "cell_type": "markdown",
   "metadata": {},
   "source": [
    "<hr>\n",
    "\n",
    "### checking TimeSeriesData class next_batch()\n",
    "\n",
    "next_batch() return part of sin "
   ]
  },
  {
   "cell_type": "code",
   "execution_count": 562,
   "metadata": {},
   "outputs": [],
   "source": [
    "num_time_steps = 30"
   ]
  },
  {
   "cell_type": "code",
   "execution_count": 563,
   "metadata": {},
   "outputs": [],
   "source": [
    "# timeSeriesDate_obj is made with xmax and xmin\n",
    "#  and timeSeriesDate_obj's resolution is decided already\n",
    "#  we getting time series from random starting point which is the range of timeSeriesDate_obj \n",
    "#  we will get points as much as num_time_steps \n",
    "y1, y1, ts = timeSeriesDate_obj.next_batch(batch_size=1, steps= num_time_steps, return_batch_ts=True)"
   ]
  },
  {
   "cell_type": "code",
   "execution_count": 564,
   "metadata": {},
   "outputs": [
    {
     "data": {
      "text/plain": [
       "array([0.55356496, 0.5618652 , 0.57010926, 0.5782963 , 0.58642552,\n",
       "       0.5944961 , 0.60250722, 0.6104581 , 0.61834793, 0.62617593,\n",
       "       0.63394131, 0.64164329, 0.64928111, 0.65685401, 0.66436122,\n",
       "       0.67180199, 0.67917559, 0.68648126, 0.69371829, 0.70088595,\n",
       "       0.70798352, 0.7150103 , 0.72196557, 0.72884865, 0.73565884,\n",
       "       0.74239547, 0.74905785, 0.75564534, 0.76215726, 0.76859296])"
      ]
     },
     "execution_count": 564,
     "metadata": {},
     "output_type": "execute_result"
    }
   ],
   "source": [
    "y1.flatten()"
   ]
  },
  {
   "cell_type": "code",
   "execution_count": 565,
   "metadata": {},
   "outputs": [
    {
     "data": {
      "text/plain": [
       "array([0.57663883, 0.58663883, 0.59663883, 0.60663883, 0.61663883,\n",
       "       0.62663883, 0.63663883, 0.64663883, 0.65663883, 0.66663883,\n",
       "       0.67663883, 0.68663883, 0.69663883, 0.70663883, 0.71663883,\n",
       "       0.72663883, 0.73663883, 0.74663883, 0.75663883, 0.76663883,\n",
       "       0.77663883, 0.78663883, 0.79663883, 0.80663883, 0.81663883,\n",
       "       0.82663883, 0.83663883, 0.84663883, 0.85663883, 0.86663883,\n",
       "       0.87663883])"
      ]
     },
     "execution_count": 565,
     "metadata": {},
     "output_type": "execute_result"
    }
   ],
   "source": [
    "ts.flatten()"
   ]
  },
  {
   "cell_type": "code",
   "execution_count": 566,
   "metadata": {},
   "outputs": [
    {
     "data": {
      "text/plain": [
       "[<matplotlib.lines.Line2D at 0x1c4166feb8>]"
      ]
     },
     "execution_count": 566,
     "metadata": {},
     "output_type": "execute_result"
    },
    {
     "data": {
      "image/png": "[encoded data removed]",
      "text/plain": [
       "<Figure size 432x288 with 1 Axes>"
      ]
     },
     "metadata": {
      "needs_background": "light"
     },
     "output_type": "display_data"
    }
   ],
   "source": [
    "plt.plot(ts.flatten()[1:], y1.flatten(),\"*\")"
   ]
  },
  {
   "cell_type": "code",
   "execution_count": 567,
   "metadata": {},
   "outputs": [
    {
     "data": {
      "image/png": "[encoded data removed]",
      "text/plain": [
       "<Figure size 432x288 with 1 Axes>"
      ]
     },
     "metadata": {
      "needs_background": "light"
     },
     "output_type": "display_data"
    }
   ],
   "source": [
    "plt.plot(timeSeriesDate_obj.x_data, timeSeriesDate_obj.y_true, label=\"sin(x)\")\n",
    "plt.plot(ts.flatten()[1:], y1.flatten(),\"*\", label=\"single batch\")\n",
    "\n",
    "plt.legend()\n",
    "plt.tight_layout()"
   ]
  },
  {
   "cell_type": "markdown",
   "metadata": {},
   "source": [
    "<hr>\n",
    "\n",
    "### expecting next tartget value by given current points"
   ]
  },
  {
   "cell_type": "code",
   "execution_count": 568,
   "metadata": {},
   "outputs": [
    {
     "data": {
      "text/plain": [
       "array([5.        , 5.01052632, 5.02105263, 5.03157895, 5.04210526,\n",
       "       5.05263158, 5.06315789, 5.07368421, 5.08421053, 5.09473684,\n",
       "       5.10526316, 5.11578947, 5.12631579, 5.13684211, 5.14736842,\n",
       "       5.15789474, 5.16842105, 5.17894737, 5.18947368, 5.2       ])"
      ]
     },
     "execution_count": 568,
     "metadata": {},
     "output_type": "execute_result"
    }
   ],
   "source": [
    "# 5 is random number, it could be any number\n",
    "\n",
    "num_instance_steps = 20\n",
    "\n",
    "single_training_instance = np.linspace(5, 5 + timeSeriesDate_obj.resolution * num_instance_steps, num_instance_steps)\n",
    "single_training_instance"
   ]
  },
  {
   "cell_type": "code",
   "execution_count": 569,
   "metadata": {},
   "outputs": [
    {
     "data": {
      "text/plain": [
       "<matplotlib.legend.Legend at 0x1c417b7240>"
      ]
     },
     "execution_count": 569,
     "metadata": {},
     "output_type": "execute_result"
    },
    {
     "data": {
      "image/png": "[encoded data removed]",
      "text/plain": [
       "<Figure size 432x288 with 1 Axes>"
      ]
     },
     "metadata": {
      "needs_background": "light"
     },
     "output_type": "display_data"
    }
   ],
   "source": [
    "plt.title(\"single instance\")\n",
    "plt.plot(single_training_instance[:-1], timeSeriesDate_obj.return_true(single_training_instance[:-1]),\"bo\", markersize=15, alpha=0.5, label =\"current item\")\n",
    "plt.plot(single_training_instance[1:], timeSeriesDate_obj.return_true(single_training_instance[1:]), \"ko\", markersize=\"7\", label=\"target item\")\n",
    "plt.legend()"
   ]
  },
  {
   "cell_type": "markdown",
   "metadata": {},
   "source": [
    "<hr>\n",
    "\n",
    "## creating model"
   ]
  },
  {
   "cell_type": "code",
   "execution_count": 570,
   "metadata": {},
   "outputs": [],
   "source": [
    "tf.reset_default_graph()"
   ]
  },
  {
   "cell_type": "code",
   "execution_count": 571,
   "metadata": {},
   "outputs": [],
   "source": [
    "# these are hyperparameters \n",
    "\n",
    "num_inputs = 1\n",
    "num_outputs = 1\n",
    "num_neurons = 300\n",
    "learning_rate = 0.0005\n",
    "num_training_iterations = 3000\n",
    "batch_size = 1"
   ]
  },
  {
   "cell_type": "code",
   "execution_count": 572,
   "metadata": {},
   "outputs": [],
   "source": [
    "# placeholder"
   ]
  },
  {
   "cell_type": "code",
   "execution_count": 573,
   "metadata": {},
   "outputs": [],
   "source": [
    "X = tf.placeholder(tf.float32, shape=[None,num_instance_steps, num_inputs])\n",
    "y = tf.placeholder(tf.float32, shape=[None,num_instance_steps, num_outputs])"
   ]
  },
  {
   "cell_type": "code",
   "execution_count": 574,
   "metadata": {},
   "outputs": [],
   "source": [
    "# RNN cell layer"
   ]
  },
  {
   "cell_type": "markdown",
   "metadata": {},
   "source": [
    "#### about OutputProjectionWrapper\n",
    "ref) https://www.oreilly.com/library/view/neural-networks-and/9781492037354/ch04.html\n",
    "\n",
    "At each time step we now have an output vector of size 100. But what we actually want is a single output value at each time step. The simplest solution is to wrap the cell in an OutputProjectionWrapper. A cell wrapper acts like a normal cell, proxying every method call to an underlying cell, but it also adds some functionality. The \n",
    "OutputProjectionWrapper adds a fully connected layer of linear neurons (i.e., without any activation function) on top of each output (but it does not affect the cell state). All these fully connected layers share the same (trainable) weights and bias terms. The resulting RNN is represented in Figure 4-8."
   ]
  },
  {
   "cell_type": "code",
   "execution_count": 575,
   "metadata": {},
   "outputs": [],
   "source": [
    "# we can try many different type of cells\n",
    "\n",
    "cell = tf.contrib.rnn.BasicRNNCell(num_neurons, activation= tf.nn.relu)\n",
    "# cell = tf.contrib.rnn.GRUCell(num_neurons, activation= tf.nn.relu)\n",
    "cell = tf.contrib.rnn.OutputProjectionWrapper(cell,output_size=num_outputs)"
   ]
  },
  {
   "cell_type": "code",
   "execution_count": 576,
   "metadata": {},
   "outputs": [],
   "source": [
    "outputs, states = tf.nn.dynamic_rnn(cell, inputs=X, dtype = tf.float32)"
   ]
  },
  {
   "cell_type": "code",
   "execution_count": 577,
   "metadata": {},
   "outputs": [],
   "source": [
    "# MSE \n",
    "\n",
    "loss = tf.reduce_mean(tf.square(outputs - y)) "
   ]
  },
  {
   "cell_type": "code",
   "execution_count": 578,
   "metadata": {},
   "outputs": [],
   "source": [
    "# optimizer\n",
    "\n",
    "optimizer = tf.train.AdamOptimizer(learning_rate = learning_rate)"
   ]
  },
  {
   "cell_type": "code",
   "execution_count": 579,
   "metadata": {},
   "outputs": [],
   "source": [
    "train = optimizer.minimize(loss)"
   ]
  },
  {
   "cell_type": "code",
   "execution_count": 580,
   "metadata": {},
   "outputs": [],
   "source": [
    "init = tf.global_variables_initializer()"
   ]
  },
  {
   "cell_type": "code",
   "execution_count": 581,
   "metadata": {},
   "outputs": [],
   "source": [
    "# session"
   ]
  },
  {
   "cell_type": "code",
   "execution_count": 582,
   "metadata": {},
   "outputs": [],
   "source": [
    "# this is for only gpu, larger number of per_process_gpu_memory_fraction will use larger memory size of gpu memory \n",
    "# gpu_option = tf.GPUOptions(per_process_gpu_memory_fraction = 0.8)"
   ]
  },
  {
   "cell_type": "code",
   "execution_count": 583,
   "metadata": {},
   "outputs": [],
   "source": [
    "saver = tf.train.Saver()"
   ]
  },
  {
   "cell_type": "code",
   "execution_count": 584,
   "metadata": {},
   "outputs": [
    {
     "name": "stdout",
     "output_type": "stream",
     "text": [
      "0 \tMSE : 0.05343\n",
      "100 \tMSE : 0.009626958\n",
      "200 \tMSE : 0.0015062715\n",
      "300 \tMSE : 0.0011889288\n",
      "400 \tMSE : 0.00027184322\n",
      "500 \tMSE : 0.00034820588\n",
      "600 \tMSE : 2.1257005e-05\n",
      "700 \tMSE : 1.4648105e-06\n",
      "800 \tMSE : 8.931072e-06\n",
      "900 \tMSE : 9.26669e-07\n",
      "1000 \tMSE : 4.719667e-06\n",
      "1100 \tMSE : 9.930989e-06\n",
      "1200 \tMSE : 9.477338e-07\n",
      "1300 \tMSE : 2.0327964e-06\n",
      "1400 \tMSE : 1.8275548e-06\n",
      "1500 \tMSE : 2.2083716e-06\n",
      "1600 \tMSE : 5.762339e-07\n",
      "1700 \tMSE : 3.0746236e-07\n",
      "1800 \tMSE : 6.547022e-07\n",
      "1900 \tMSE : 2.0902708e-07\n",
      "2000 \tMSE : 2.1161914e-06\n",
      "2100 \tMSE : 1.2097739e-05\n",
      "2200 \tMSE : 5.332149e-06\n",
      "2300 \tMSE : 3.049555e-06\n",
      "2400 \tMSE : 6.9953904e-07\n",
      "2500 \tMSE : 3.7176444e-06\n",
      "2600 \tMSE : 9.984944e-06\n",
      "2700 \tMSE : 4.240581e-05\n",
      "2800 \tMSE : 3.939275e-06\n",
      "2900 \tMSE : 4.9828157e-07\n"
     ]
    }
   ],
   "source": [
    "# this is for gpu session with option \n",
    "# with tf.Session(config=tf.ConfigProto(gpu_option = gpu_option)) as sess:\n",
    "\n",
    "with tf.Session() as sess:\n",
    "    sess.run(init)\n",
    "    \n",
    "    for i in range(num_training_iterations):\n",
    "        X_batch, y_batch = timeSeriesDate_obj.next_batch(batch_size=1, steps=num_instance_steps, return_batch_ts=False)\n",
    "        \n",
    "        sess.run(train, feed_dict={X:X_batch, y:y_batch})\n",
    "        \n",
    "        if i%100 ==0:\n",
    "            mse = loss.eval(feed_dict={X:X_batch, y:y_batch})\n",
    "            \n",
    "            print(i,\"\\tMSE :\",mse)\n",
    "            \n",
    "    saver.save(sess,\"./saved_model_from_RNN_with_TensorFlow/jacob_test_rnn\")"
   ]
  },
  {
   "cell_type": "markdown",
   "metadata": {},
   "source": [
    "<hr>\n",
    "\n",
    "## test new data"
   ]
  },
  {
   "cell_type": "code",
   "execution_count": 591,
   "metadata": {},
   "outputs": [
    {
     "data": {
      "text/plain": [
       "array([10.  , 10.25, 10.5 , 10.75, 11.  , 11.25, 11.5 , 11.75, 12.  ,\n",
       "       12.25, 12.5 , 12.75, 13.  , 13.25, 13.5 , 13.75, 14.  , 14.25,\n",
       "       14.5 , 14.75, 15.  ])"
      ]
     },
     "execution_count": 591,
     "metadata": {},
     "output_type": "execute_result"
    }
   ],
   "source": [
    "np.linspace(10, 15, num= 21)"
   ]
  },
  {
   "cell_type": "code",
   "execution_count": 597,
   "metadata": {},
   "outputs": [
    {
     "data": {
      "text/plain": [
       "array([0.  , 0.05, 0.1 , 0.15, 0.2 , 0.25, 0.3 , 0.35, 0.4 , 0.45, 0.5 ,\n",
       "       0.55, 0.6 , 0.65, 0.7 , 0.75, 0.8 , 0.85, 0.9 , 0.95])"
      ]
     },
     "execution_count": 597,
     "metadata": {},
     "output_type": "execute_result"
    }
   ],
   "source": [
    "X_base_data = np.linspace(0, 1, num= 21)\n",
    "X_new_given_data = X_base_data[:-1]\n",
    "X_new_given_data"
   ]
  },
  {
   "cell_type": "code",
   "execution_count": 598,
   "metadata": {},
   "outputs": [
    {
     "data": {
      "text/plain": [
       "array([0.        , 0.04997917, 0.09983342, 0.14943813, 0.19866933,\n",
       "       0.24740396, 0.29552021, 0.34289781, 0.38941834, 0.43496553,\n",
       "       0.47942554, 0.52268723, 0.56464247, 0.60518641, 0.64421769,\n",
       "       0.68163876, 0.71735609, 0.75128041, 0.78332691, 0.8134155 ,\n",
       "       0.84147098])"
      ]
     },
     "execution_count": 598,
     "metadata": {},
     "output_type": "execute_result"
    }
   ],
   "source": [
    "y_new_true = np.sin(X_base_data)\n",
    "y_new_true"
   ]
  },
  {
   "cell_type": "code",
   "execution_count": 599,
   "metadata": {},
   "outputs": [
    {
     "data": {
      "text/plain": [
       "[<matplotlib.lines.Line2D at 0x1c433befd0>]"
      ]
     },
     "execution_count": 599,
     "metadata": {},
     "output_type": "execute_result"
    },
    {
     "data": {
      "image/png": "[encoded data removed]",
      "text/plain": [
       "<Figure size 432x288 with 1 Axes>"
      ]
     },
     "metadata": {
      "needs_background": "light"
     },
     "output_type": "display_data"
    }
   ],
   "source": [
    "plt.plot(X_new_given_data, y_new_true[:-1], \"ro\", label=\"new data\", markersize= 13, alpha=0.5)"
   ]
  },
  {
   "cell_type": "code",
   "execution_count": 600,
   "metadata": {},
   "outputs": [
    {
     "name": "stdout",
     "output_type": "stream",
     "text": [
      "INFO:tensorflow:Restoring parameters from ./saved_model_from_RNN_with_TensorFlow/jacob_test_rnn\n"
     ]
    }
   ],
   "source": [
    "with tf.Session() as sess:\n",
    "    saver.restore(sess, \"./saved_model_from_RNN_with_TensorFlow/jacob_test_rnn\")\n",
    "    \n",
    "    new_input_data = np.sin(X_new_given_data).reshape(-1,20,1)\n",
    "    \n",
    "    y_new_pred = sess.run(outputs, feed_dict={X:new_input_data})\n",
    "    \n",
    "    "
   ]
  },
  {
   "cell_type": "code",
   "execution_count": 601,
   "metadata": {},
   "outputs": [
    {
     "data": {
      "text/plain": [
       "[<matplotlib.lines.Line2D at 0x1c44198278>]"
      ]
     },
     "execution_count": 601,
     "metadata": {},
     "output_type": "execute_result"
    },
    {
     "data": {
      "image/png": "[encoded data removed]",
      "text/plain": [
       "<Figure size 432x288 with 1 Axes>"
      ]
     },
     "metadata": {
      "needs_background": "light"
     },
     "output_type": "display_data"
    }
   ],
   "source": [
    "# plt.title(\"TEST RNN\")\n",
    "\n",
    "plt.plot(X_new_given_data,y_new_true[:-1], \"bo\", markersize= 15, alpha=0.5, label=\"given data\")\n",
    "plt.plot(X_base_data,y_new_true, \"ko\", markersize=10, label=\"target\")\n",
    "plt.plot(X_new_given_data,y_new_pred[0,:,0], \"ro\", markersize=5, label=\"prediction\")"
   ]
  }
 ],
 "metadata": {
  "kernelspec": {
   "display_name": "Python 3",
   "language": "python",
   "name": "python3"
  },
  "language_info": {
   "codemirror_mode": {
    "name": "ipython",
    "version": 3
   },
   "file_extension": ".py",
   "mimetype": "text/x-python",
   "name": "python",
   "nbconvert_exporter": "python",
   "pygments_lexer": "ipython3",
   "version": "3.7.2"
  }
 },
 "nbformat": 4,
 "nbformat_minor": 2
}
