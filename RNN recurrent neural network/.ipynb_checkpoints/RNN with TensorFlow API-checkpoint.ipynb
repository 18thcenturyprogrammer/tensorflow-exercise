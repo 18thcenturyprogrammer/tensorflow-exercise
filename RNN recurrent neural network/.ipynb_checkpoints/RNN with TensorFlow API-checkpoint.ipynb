{
 "cells": [
  {
   "cell_type": "markdown",
   "metadata": {},
   "source": [
    "#### i was confused of this project. i thought the goal is expecting the next value of y by x, but this project is about expecting y value by the right before y value. "
   ]
  },
  {
   "cell_type": "code",
   "execution_count": 2,
   "metadata": {},
   "outputs": [],
   "source": [
    "import numpy as np\n",
    "import tensorflow as tf\n",
    "import matplotlib.pyplot as plt"
   ]
  },
  {
   "cell_type": "code",
   "execution_count": 33,
   "metadata": {},
   "outputs": [],
   "source": [
    "class TimeSeriesData():\n",
    "    \n",
    "    def __init__ (self, num_points, xmax, xmin):\n",
    "        self.num_points = num_points\n",
    "        self.xmax = xmax\n",
    "        self.xmin = xmin\n",
    "        self.resolution = (xmax- xmin)/num_points\n",
    "        self.x_data = np.linspace(xmin, xmax , num_points)\n",
    "        self.y_true = np.sin(self.x_data)\n",
    "        \n",
    "    def return_true(selft, x_series):\n",
    "        return np.sin(x_series)\n",
    "    \n",
    "    def next_batch(self, batch_size, steps, return_batch_ts = False):\n",
    "        # get random starting point in time series\n",
    "        \n",
    "        random_point = np.random.rand(batch_size , 1)\n",
    "        random_starting_on_ts = random_point * (self.xmax - self.xmin - (steps*self.resolution))\n",
    "        \n",
    "        # create batch time series\n",
    "        batch_ts = random_starting_on_ts + np.arange(0.0,steps+1)*self.resolution\n",
    "        \n",
    "        y_batch = np.sin(batch_ts)\n",
    "        \n",
    "        # returning batch in tuple\n",
    "        # first item is current step\n",
    "        # second item is target item which is the next step of current step\n",
    "        if return_batch_ts:\n",
    "            return y_batch[:,:-1].reshape(-1,steps,1), y_batch[:,1:].reshape(-1,steps,1), batch_ts\n",
    "        else:\n",
    "            return y_batch[:,:-1].reshape(-1,steps,1), y_batch[:,1:].reshape(-1,steps,1) "
   ]
  },
  {
   "cell_type": "code",
   "execution_count": 34,
   "metadata": {},
   "outputs": [],
   "source": [
    "timeSeriesDate_obj = TimeSeriesData(300,xmin=0, xmax=10)\n"
   ]
  },
  {
   "cell_type": "code",
   "execution_count": 35,
   "metadata": {},
   "outputs": [
    {
     "data": {
      "text/plain": [
       "array([ 0.        ,  0.03344482,  0.06688963,  0.10033445,  0.13377926,\n",
       "        0.16722408,  0.2006689 ,  0.23411371,  0.26755853,  0.30100334,\n",
       "        0.33444816,  0.36789298,  0.40133779,  0.43478261,  0.46822742,\n",
       "        0.50167224,  0.53511706,  0.56856187,  0.60200669,  0.63545151,\n",
       "        0.66889632,  0.70234114,  0.73578595,  0.76923077,  0.80267559,\n",
       "        0.8361204 ,  0.86956522,  0.90301003,  0.93645485,  0.96989967,\n",
       "        1.00334448,  1.0367893 ,  1.07023411,  1.10367893,  1.13712375,\n",
       "        1.17056856,  1.20401338,  1.23745819,  1.27090301,  1.30434783,\n",
       "        1.33779264,  1.37123746,  1.40468227,  1.43812709,  1.47157191,\n",
       "        1.50501672,  1.53846154,  1.57190635,  1.60535117,  1.63879599,\n",
       "        1.6722408 ,  1.70568562,  1.73913043,  1.77257525,  1.80602007,\n",
       "        1.83946488,  1.8729097 ,  1.90635452,  1.93979933,  1.97324415,\n",
       "        2.00668896,  2.04013378,  2.0735786 ,  2.10702341,  2.14046823,\n",
       "        2.17391304,  2.20735786,  2.24080268,  2.27424749,  2.30769231,\n",
       "        2.34113712,  2.37458194,  2.40802676,  2.44147157,  2.47491639,\n",
       "        2.5083612 ,  2.54180602,  2.57525084,  2.60869565,  2.64214047,\n",
       "        2.67558528,  2.7090301 ,  2.74247492,  2.77591973,  2.80936455,\n",
       "        2.84280936,  2.87625418,  2.909699  ,  2.94314381,  2.97658863,\n",
       "        3.01003344,  3.04347826,  3.07692308,  3.11036789,  3.14381271,\n",
       "        3.17725753,  3.21070234,  3.24414716,  3.27759197,  3.31103679,\n",
       "        3.34448161,  3.37792642,  3.41137124,  3.44481605,  3.47826087,\n",
       "        3.51170569,  3.5451505 ,  3.57859532,  3.61204013,  3.64548495,\n",
       "        3.67892977,  3.71237458,  3.7458194 ,  3.77926421,  3.81270903,\n",
       "        3.84615385,  3.87959866,  3.91304348,  3.94648829,  3.97993311,\n",
       "        4.01337793,  4.04682274,  4.08026756,  4.11371237,  4.14715719,\n",
       "        4.18060201,  4.21404682,  4.24749164,  4.28093645,  4.31438127,\n",
       "        4.34782609,  4.3812709 ,  4.41471572,  4.44816054,  4.48160535,\n",
       "        4.51505017,  4.54849498,  4.5819398 ,  4.61538462,  4.64882943,\n",
       "        4.68227425,  4.71571906,  4.74916388,  4.7826087 ,  4.81605351,\n",
       "        4.84949833,  4.88294314,  4.91638796,  4.94983278,  4.98327759,\n",
       "        5.01672241,  5.05016722,  5.08361204,  5.11705686,  5.15050167,\n",
       "        5.18394649,  5.2173913 ,  5.25083612,  5.28428094,  5.31772575,\n",
       "        5.35117057,  5.38461538,  5.4180602 ,  5.45150502,  5.48494983,\n",
       "        5.51839465,  5.55183946,  5.58528428,  5.6187291 ,  5.65217391,\n",
       "        5.68561873,  5.71906355,  5.75250836,  5.78595318,  5.81939799,\n",
       "        5.85284281,  5.88628763,  5.91973244,  5.95317726,  5.98662207,\n",
       "        6.02006689,  6.05351171,  6.08695652,  6.12040134,  6.15384615,\n",
       "        6.18729097,  6.22073579,  6.2541806 ,  6.28762542,  6.32107023,\n",
       "        6.35451505,  6.38795987,  6.42140468,  6.4548495 ,  6.48829431,\n",
       "        6.52173913,  6.55518395,  6.58862876,  6.62207358,  6.65551839,\n",
       "        6.68896321,  6.72240803,  6.75585284,  6.78929766,  6.82274247,\n",
       "        6.85618729,  6.88963211,  6.92307692,  6.95652174,  6.98996656,\n",
       "        7.02341137,  7.05685619,  7.090301  ,  7.12374582,  7.15719064,\n",
       "        7.19063545,  7.22408027,  7.25752508,  7.2909699 ,  7.32441472,\n",
       "        7.35785953,  7.39130435,  7.42474916,  7.45819398,  7.4916388 ,\n",
       "        7.52508361,  7.55852843,  7.59197324,  7.62541806,  7.65886288,\n",
       "        7.69230769,  7.72575251,  7.75919732,  7.79264214,  7.82608696,\n",
       "        7.85953177,  7.89297659,  7.9264214 ,  7.95986622,  7.99331104,\n",
       "        8.02675585,  8.06020067,  8.09364548,  8.1270903 ,  8.16053512,\n",
       "        8.19397993,  8.22742475,  8.26086957,  8.29431438,  8.3277592 ,\n",
       "        8.36120401,  8.39464883,  8.42809365,  8.46153846,  8.49498328,\n",
       "        8.52842809,  8.56187291,  8.59531773,  8.62876254,  8.66220736,\n",
       "        8.69565217,  8.72909699,  8.76254181,  8.79598662,  8.82943144,\n",
       "        8.86287625,  8.89632107,  8.92976589,  8.9632107 ,  8.99665552,\n",
       "        9.03010033,  9.06354515,  9.09698997,  9.13043478,  9.1638796 ,\n",
       "        9.19732441,  9.23076923,  9.26421405,  9.29765886,  9.33110368,\n",
       "        9.36454849,  9.39799331,  9.43143813,  9.46488294,  9.49832776,\n",
       "        9.53177258,  9.56521739,  9.59866221,  9.63210702,  9.66555184,\n",
       "        9.69899666,  9.73244147,  9.76588629,  9.7993311 ,  9.83277592,\n",
       "        9.86622074,  9.89966555,  9.93311037,  9.96655518, 10.        ])"
      ]
     },
     "execution_count": 35,
     "metadata": {},
     "output_type": "execute_result"
    }
   ],
   "source": [
    "timeSeriesDate_obj.x_data"
   ]
  },
  {
   "cell_type": "code",
   "execution_count": 36,
   "metadata": {},
   "outputs": [
    {
     "data": {
      "text/plain": [
       "[<matplotlib.lines.Line2D at 0xb2a1de470>]"
      ]
     },
     "execution_count": 36,
     "metadata": {},
     "output_type": "execute_result"
    },
    {
     "data": {
      "image/png": "[encoded data removed]",
      "text/plain": [
       "<Figure size 432x288 with 1 Axes>"
      ]
     },
     "metadata": {
      "needs_background": "light"
     },
     "output_type": "display_data"
    }
   ],
   "source": [
    "plt.plot(timeSeriesDate_obj.x_data, timeSeriesDate_obj.y_true, \"b\")"
   ]
  },
  {
   "cell_type": "markdown",
   "metadata": {},
   "source": [
    "<hr>\n",
    "\n",
    "### checking TimeSeriesData class next_batch()\n",
    "\n",
    "next_batch() return part of sin "
   ]
  },
  {
   "cell_type": "code",
   "execution_count": 98,
   "metadata": {},
   "outputs": [],
   "source": [
    "num_time_steps = 30"
   ]
  },
  {
   "cell_type": "code",
   "execution_count": 99,
   "metadata": {},
   "outputs": [],
   "source": [
    "y1, y1, ts = timeSeriesDate_obj.next_batch(batch_size=1, steps= num_time_steps, return_batch_ts=True)"
   ]
  },
  {
   "cell_type": "code",
   "execution_count": 100,
   "metadata": {},
   "outputs": [
    {
     "data": {
      "text/plain": [
       "array([0.67543792, 0.69963872, 0.72306222, 0.74568239, 0.7674741 ,\n",
       "       0.78841314, 0.80847624, 0.82764113, 0.84588649, 0.86319207,\n",
       "       0.87953864, 0.89490803, 0.90928317, 0.92264809, 0.93498794,\n",
       "       0.94628901, 0.95653875, 0.96572576, 0.97383985, 0.98087199,\n",
       "       0.98681437, 0.9916604 , 0.99540468, 0.99804306, 0.9995726 ,\n",
       "       0.99999161, 0.99929963, 0.99749741, 0.99458696, 0.99057152])"
      ]
     },
     "execution_count": 100,
     "metadata": {},
     "output_type": "execute_result"
    }
   ],
   "source": [
    "y1.flatten()"
   ]
  },
  {
   "cell_type": "code",
   "execution_count": 101,
   "metadata": {},
   "outputs": [
    {
     "data": {
      "text/plain": [
       "array([6.99141037, 7.02474371, 7.05807704, 7.09141037, 7.12474371,\n",
       "       7.15807704, 7.19141037, 7.22474371, 7.25807704, 7.29141037,\n",
       "       7.32474371, 7.35807704, 7.39141037, 7.42474371, 7.45807704,\n",
       "       7.49141037, 7.52474371, 7.55807704, 7.59141037, 7.62474371,\n",
       "       7.65807704, 7.69141037, 7.72474371, 7.75807704, 7.79141037,\n",
       "       7.82474371, 7.85807704, 7.89141037, 7.92474371, 7.95807704,\n",
       "       7.99141037])"
      ]
     },
     "execution_count": 101,
     "metadata": {},
     "output_type": "execute_result"
    }
   ],
   "source": [
    "ts.flatten()"
   ]
  },
  {
   "cell_type": "code",
   "execution_count": 102,
   "metadata": {},
   "outputs": [
    {
     "data": {
      "text/plain": [
       "[<matplotlib.lines.Line2D at 0xb2b266198>]"
      ]
     },
     "execution_count": 102,
     "metadata": {},
     "output_type": "execute_result"
    },
    {
     "data": {
      "image/png": "[encoded data removed]",
      "text/plain": [
       "<Figure size 432x288 with 1 Axes>"
      ]
     },
     "metadata": {
      "needs_background": "light"
     },
     "output_type": "display_data"
    }
   ],
   "source": [
    "plt.plot(ts.flatten()[1:], y1.flatten(),\"*\")"
   ]
  },
  {
   "cell_type": "code",
   "execution_count": 103,
   "metadata": {},
   "outputs": [
    {
     "data": {
      "image/png": "[encoded data removed]",
      "text/plain": [
       "<Figure size 432x288 with 1 Axes>"
      ]
     },
     "metadata": {
      "needs_background": "light"
     },
     "output_type": "display_data"
    }
   ],
   "source": [
    "plt.plot(timeSeriesDate_obj.x_data, timeSeriesDate_obj.y_true, label=\"sin(x)\")\n",
    "plt.plot(ts.flatten()[1:], y1.flatten(),\"*\", label=\"single batch\")\n",
    "\n",
    "plt.legend()\n",
    "plt.tight_layout()"
   ]
  },
  {
   "cell_type": "markdown",
   "metadata": {},
   "source": [
    "<hr>\n",
    "\n",
    "### expecting next tartget value by given current points"
   ]
  },
  {
   "cell_type": "code",
   "execution_count": 193,
   "metadata": {},
   "outputs": [
    {
     "data": {
      "text/plain": [
       "array([5.        , 5.03508772, 5.07017544, 5.10526316, 5.14035088,\n",
       "       5.1754386 , 5.21052632, 5.24561404, 5.28070175, 5.31578947,\n",
       "       5.35087719, 5.38596491, 5.42105263, 5.45614035, 5.49122807,\n",
       "       5.52631579, 5.56140351, 5.59649123, 5.63157895, 5.66666667])"
      ]
     },
     "execution_count": 193,
     "metadata": {},
     "output_type": "execute_result"
    }
   ],
   "source": [
    "# 5 is random number, it could be any number\n",
    "\n",
    "num_instance_steps = 20\n",
    "\n",
    "single_training_instance = np.linspace(5, 5 + timeSeriesDate_obj.resolution * num_instance_steps, num_instance_steps)\n",
    "single_training_instance"
   ]
  },
  {
   "cell_type": "code",
   "execution_count": 194,
   "metadata": {},
   "outputs": [
    {
     "data": {
      "text/plain": [
       "<matplotlib.legend.Legend at 0x1c43fea3c8>"
      ]
     },
     "execution_count": 194,
     "metadata": {},
     "output_type": "execute_result"
    },
    {
     "data": {
      "image/png": "[encoded data removed]",
      "text/plain": [
       "<Figure size 432x288 with 1 Axes>"
      ]
     },
     "metadata": {
      "needs_background": "light"
     },
     "output_type": "display_data"
    }
   ],
   "source": [
    "plt.title(\"single instance\")\n",
    "plt.plot(single_training_instance[:-1], timeSeriesDate_obj.return_true(single_training_instance[:-1]),\"bo\", markersize=15, alpha=0.5, label =\"current item\")\n",
    "plt.plot(single_training_instance[1:], timeSeriesDate_obj.return_true(single_training_instance[1:]), \"ko\", markersize=\"7\", label=\"target item\")\n",
    "plt.legend()"
   ]
  },
  {
   "cell_type": "markdown",
   "metadata": {},
   "source": [
    "<hr>\n",
    "\n",
    "## creating model"
   ]
  },
  {
   "cell_type": "code",
   "execution_count": 243,
   "metadata": {},
   "outputs": [],
   "source": [
    "tf.reset_default_graph()"
   ]
  },
  {
   "cell_type": "code",
   "execution_count": 244,
   "metadata": {},
   "outputs": [],
   "source": [
    "num_inputs = 1\n",
    "num_outputs = 1\n",
    "num_neurons = 100\n",
    "learning_rate = 0.001\n",
    "num_training_iterations = 1000\n",
    "batch_size = 1"
   ]
  },
  {
   "cell_type": "code",
   "execution_count": 245,
   "metadata": {},
   "outputs": [],
   "source": [
    "# placeholder"
   ]
  },
  {
   "cell_type": "code",
   "execution_count": 246,
   "metadata": {},
   "outputs": [],
   "source": [
    "X = tf.placeholder(tf.float32, shape=[None,num_instance_steps, num_inputs])\n",
    "y = tf.placeholder(tf.float32, shape=[None,num_instance_steps, num_outputs])"
   ]
  },
  {
   "cell_type": "code",
   "execution_count": 247,
   "metadata": {},
   "outputs": [],
   "source": [
    "# RNN cell layer"
   ]
  },
  {
   "cell_type": "markdown",
   "metadata": {},
   "source": [
    "#### about OutputProjectionWrapper\n",
    "ref) https://www.oreilly.com/library/view/neural-networks-and/9781492037354/ch04.html\n",
    "\n",
    "At each time step we now have an output vector of size 100. But what we actually want is a single output value at each time step. The simplest solution is to wrap the cell in an OutputProjectionWrapper. A cell wrapper acts like a normal cell, proxying every method call to an underlying cell, but it also adds some functionality. The \n",
    "OutputProjectionWrapper adds a fully connected layer of linear neurons (i.e., without any activation function) on top of each output (but it does not affect the cell state). All these fully connected layers share the same (trainable) weights and bias terms. The resulting RNN is represented in Figure 4-8."
   ]
  },
  {
   "cell_type": "code",
   "execution_count": 248,
   "metadata": {},
   "outputs": [],
   "source": [
    "cell = tf.contrib.rnn.BasicRNNCell(num_neurons, activation= tf.nn.relu)\n",
    "cell = tf.contrib.rnn.OutputProjectionWrapper(cell,output_size=num_outputs)"
   ]
  },
  {
   "cell_type": "code",
   "execution_count": 249,
   "metadata": {},
   "outputs": [],
   "source": [
    "outputs, states = tf.nn.dynamic_rnn(cell, inputs=X, dtype= tf.float32)"
   ]
  },
  {
   "cell_type": "code",
   "execution_count": 250,
   "metadata": {},
   "outputs": [],
   "source": [
    "# MSE \n",
    "\n",
    "loss = tf.reduce_mean(tf.square(outputs - y)) "
   ]
  },
  {
   "cell_type": "code",
   "execution_count": 251,
   "metadata": {},
   "outputs": [],
   "source": [
    "# optimizer\n",
    "\n",
    "optimizer = tf.train.AdamOptimizer(learning_rate = learning_rate)"
   ]
  },
  {
   "cell_type": "code",
   "execution_count": 252,
   "metadata": {},
   "outputs": [],
   "source": [
    "train = optimizer.minimize(loss)"
   ]
  },
  {
   "cell_type": "code",
   "execution_count": 253,
   "metadata": {},
   "outputs": [],
   "source": [
    "init = tf.global_variables_initializer()"
   ]
  },
  {
   "cell_type": "code",
   "execution_count": 254,
   "metadata": {},
   "outputs": [],
   "source": [
    "# session"
   ]
  },
  {
   "cell_type": "code",
   "execution_count": 255,
   "metadata": {},
   "outputs": [],
   "source": [
    "# this is for only gpu, larger number of per_process_gpu_memory_fraction will use larger memory size of gpu memory \n",
    "# gpu_option = tf.GPUOptions(per_process_gpu_memory_fraction = 0.8)"
   ]
  },
  {
   "cell_type": "code",
   "execution_count": 256,
   "metadata": {},
   "outputs": [],
   "source": [
    "saver = tf.train.Saver()"
   ]
  },
  {
   "cell_type": "code",
   "execution_count": 257,
   "metadata": {},
   "outputs": [
    {
     "name": "stdout",
     "output_type": "stream",
     "text": [
      "0 \tMSE : 1.3940331\n",
      "100 \tMSE : 0.019257\n",
      "200 \tMSE : 0.0070266626\n",
      "300 \tMSE : 0.00037308244\n",
      "400 \tMSE : 0.00033736145\n",
      "500 \tMSE : 0.0007635342\n",
      "600 \tMSE : 0.00022909124\n",
      "700 \tMSE : 0.00066910055\n",
      "800 \tMSE : 0.00020828955\n",
      "900 \tMSE : 0.00028128986\n"
     ]
    }
   ],
   "source": [
    "# this is for gpu session with option \n",
    "# with tf.Session(config=tf.ConfigProto(gpu_option = gpu_option)) as sess:\n",
    "\n",
    "with tf.Session() as sess:\n",
    "    sess.run(init)\n",
    "    \n",
    "    for i in range(num_training_iterations):\n",
    "        X_batch, y_batch = timeSeriesDate_obj.next_batch(batch_size=1, steps=num_instance_steps, return_batch_ts=False)\n",
    "        \n",
    "        sess.run(train, feed_dict={X:X_batch, y:y_batch})\n",
    "        \n",
    "        if i%100 ==0:\n",
    "            mse = loss.eval(feed_dict={X:X_batch, y:y_batch})\n",
    "            \n",
    "            print(i,\"\\tMSE :\",mse)\n",
    "            \n",
    "    saver.save(sess,\"./saved_model_from_RNN_with_TensorFlow/jacob_test_rnn\")"
   ]
  },
  {
   "cell_type": "markdown",
   "metadata": {},
   "source": [
    "<hr>\n",
    "\n",
    "## test new data"
   ]
  },
  {
   "cell_type": "code",
   "execution_count": 277,
   "metadata": {},
   "outputs": [
    {
     "data": {
      "text/plain": [
       "array([10.  , 10.25, 10.5 , 10.75, 11.  , 11.25, 11.5 , 11.75, 12.  ,\n",
       "       12.25, 12.5 , 12.75, 13.  , 13.25, 13.5 , 13.75, 14.  , 14.25,\n",
       "       14.5 , 14.75, 15.  ])"
      ]
     },
     "execution_count": 277,
     "metadata": {},
     "output_type": "execute_result"
    }
   ],
   "source": [
    "np.linspace(10, 15, num= 21)"
   ]
  },
  {
   "cell_type": "code",
   "execution_count": 297,
   "metadata": {},
   "outputs": [
    {
     "data": {
      "text/plain": [
       "array([10.  , 10.25, 10.5 , 10.75, 11.  , 11.25, 11.5 , 11.75, 12.  ,\n",
       "       12.25, 12.5 , 12.75, 13.  , 13.25, 13.5 , 13.75, 14.  , 14.25,\n",
       "       14.5 , 14.75])"
      ]
     },
     "execution_count": 297,
     "metadata": {},
     "output_type": "execute_result"
    }
   ],
   "source": [
    "X_base_data = np.linspace(10, 15, num= 21)\n",
    "X_new_given_data = X_base_data[:-1]\n",
    "X_new_given_data"
   ]
  },
  {
   "cell_type": "code",
   "execution_count": 298,
   "metadata": {},
   "outputs": [
    {
     "data": {
      "text/plain": [
       "array([-0.54402111, -0.73469843, -0.87969576, -0.96999787, -0.99999021,\n",
       "       -0.967808  , -0.87545217, -0.72866498, -0.53657292, -0.31111935,\n",
       "       -0.0663219 ,  0.18259913,  0.42016704,  0.63161099,  0.80378443,\n",
       "        0.92598244,  0.99060736,  0.9936411 ,  0.93489506,  0.81802176,\n",
       "        0.65028784])"
      ]
     },
     "execution_count": 298,
     "metadata": {},
     "output_type": "execute_result"
    }
   ],
   "source": [
    "y_new_true = np.sin(X_base_data)\n",
    "y_new_true"
   ]
  },
  {
   "cell_type": "code",
   "execution_count": 299,
   "metadata": {},
   "outputs": [
    {
     "data": {
      "text/plain": [
       "[<matplotlib.lines.Line2D at 0x1c43603588>]"
      ]
     },
     "execution_count": 299,
     "metadata": {},
     "output_type": "execute_result"
    },
    {
     "data": {
      "image/png": "[encoded data removed]",
      "text/plain": [
       "<Figure size 432x288 with 1 Axes>"
      ]
     },
     "metadata": {
      "needs_background": "light"
     },
     "output_type": "display_data"
    }
   ],
   "source": [
    "plt.plot(X_new_data, y_new_true[:-1], \"ro\", label=\"new data\", markersize= 13, alpha=0.5)"
   ]
  },
  {
   "cell_type": "code",
   "execution_count": 300,
   "metadata": {},
   "outputs": [
    {
     "name": "stdout",
     "output_type": "stream",
     "text": [
      "INFO:tensorflow:Restoring parameters from ./saved_model_from_RNN_with_TensorFlow/jacob_test_rnn\n"
     ]
    }
   ],
   "source": [
    "with tf.Session() as sess:\n",
    "    saver.restore(sess, \"./saved_model_from_RNN_with_TensorFlow/jacob_test_rnn\")\n",
    "    \n",
    "    new_input_data = np.sin(X_new_given_data).reshape(-1,20,1)\n",
    "    \n",
    "    y_new_pred = sess.run(outputs, feed_dict={X:new_input_data})\n",
    "    \n",
    "    "
   ]
  },
  {
   "cell_type": "code",
   "execution_count": 306,
   "metadata": {},
   "outputs": [
    {
     "data": {
      "text/plain": [
       "[<matplotlib.lines.Line2D at 0x1c43d49f60>]"
      ]
     },
     "execution_count": 306,
     "metadata": {},
     "output_type": "execute_result"
    },
    {
     "data": {
      "image/png": "[encoded data removed]",
      "text/plain": [
       "<Figure size 432x288 with 1 Axes>"
      ]
     },
     "metadata": {
      "needs_background": "light"
     },
     "output_type": "display_data"
    }
   ],
   "source": [
    "plt.title(\"TEST RNN\")\n",
    "plt.plot(X_new_given_data,y_new_true[:-1], \"bo\", markersize= 15, alpha=0.5, label=\"given data\")\n",
    "plt.plot(X_base_data,y_new_true, \"ko\", markersize=10, label=\"target\")\n",
    "plt.plot(X_new_given_data,y_new_pred[0,:,0], \"ro\", markersize=5, label=\"prediction\")"
   ]
  },
  {
   "cell_type": "code",
   "execution_count": null,
   "metadata": {},
   "outputs": [],
   "source": []
  }
 ],
 "metadata": {
  "kernelspec": {
   "display_name": "Python 3",
   "language": "python",
   "name": "python3"
  },
  "language_info": {
   "codemirror_mode": {
    "name": "ipython",
    "version": 3
   },
   "file_extension": ".py",
   "mimetype": "text/x-python",
   "name": "python",
   "nbconvert_exporter": "python",
   "pygments_lexer": "ipython3",
   "version": "3.7.2"
  }
 },
 "nbformat": 4,
 "nbformat_minor": 2
}
